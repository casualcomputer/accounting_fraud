{
  "nbformat": 4,
  "nbformat_minor": 0,
  "metadata": {
    "colab": {
      "name": "rnn.ipynb",
      "provenance": [],
      "authorship_tag": "ABX9TyPxYBN0me/w7y9O7trrYApH",
      "include_colab_link": true
    },
    "kernelspec": {
      "name": "python3",
      "display_name": "Python 3"
    }
  },
  "cells": [
    {
      "cell_type": "markdown",
      "metadata": {
        "id": "view-in-github",
        "colab_type": "text"
      },
      "source": [
        "<a href=\"https://colab.research.google.com/github/casualcomputer/accounting_fraud/blob/master/rnn2.ipynb\" target=\"_parent\"><img src=\"https://colab.research.google.com/assets/colab-badge.svg\" alt=\"Open In Colab\"/></a>"
      ]
    },
    {
      "cell_type": "code",
      "metadata": {
        "id": "82R5hU1e1REj",
        "outputId": "28cd42af-6ecb-4dd0-ca35-dcee1905e836",
        "colab": {
          "base_uri": "https://localhost:8080/"
        }
      },
      "source": [
        "!pip install sqldf"
      ],
      "execution_count": 1,
      "outputs": [
        {
          "output_type": "stream",
          "text": [
            "Collecting sqldf\n",
            "  Downloading https://files.pythonhosted.org/packages/60/4b/1a9f9f65bcc7cd8d724c700f469f9bbe3e796b3543e0d346e3e352a283d7/sqldf-0.4.2-py3-none-any.whl\n",
            "Installing collected packages: sqldf\n",
            "Successfully installed sqldf-0.4.2\n"
          ],
          "name": "stdout"
        }
      ]
    },
    {
      "cell_type": "code",
      "metadata": {
        "id": "tv7FtAvedC8N",
        "outputId": "b671f04a-7ebc-4251-d23c-d513e0264e68",
        "colab": {
          "base_uri": "https://localhost:8080/"
        }
      },
      "source": [
        "import pandas as pd\n",
        "\n",
        "data_url = \"https://raw.githubusercontent.com/casualcomputer/accounting_fraud/master/uscecchini28.csv\"\n",
        "df = pd.read_csv(data_url, error_bad_lines=False)\n",
        "\n",
        "print(df.head())\n"
      ],
      "execution_count": 3,
      "outputs": [
        {
          "output_type": "stream",
          "text": [
            "   fyear  gvkey    sich  insbnk  ...       dpi      reoa      EBIT    ch_fcf\n",
            "0   1990   1009  3460.0       0  ...  0.873555  0.167620  0.161961 -0.042140\n",
            "1   1990   1011  4841.0       0  ...  0.745139 -0.428957 -0.157888  0.100228\n",
            "2   1990   1017  3812.0       0  ...  1.015131  0.394768  0.063681  0.066348\n",
            "3   1990   1021  3861.0       0  ...  1.026261  0.094822  0.088347 -0.017358\n",
            "4   1990   1028  7385.0       0  ...  0.598443 -0.942379 -0.700821  0.130349\n",
            "\n",
            "[5 rows x 51 columns]\n"
          ],
          "name": "stdout"
        }
      ]
    },
    {
      "cell_type": "code",
      "metadata": {
        "colab": {
          "base_uri": "https://localhost:8080/"
        },
        "id": "3Yg69rSikmI0",
        "outputId": "0bb9e09c-5a33-43de-ba47-ad3704d16296"
      },
      "source": [
        "# different companies\n",
        "list(df['gvkey'].unique())[0:10]"
      ],
      "execution_count": 5,
      "outputs": [
        {
          "output_type": "execute_result",
          "data": {
            "text/plain": [
              "[1009, 1011, 1017, 1021, 1028, 1034, 1036, 1043, 1045, 1050]"
            ]
          },
          "metadata": {
            "tags": []
          },
          "execution_count": 5
        }
      ]
    },
    {
      "cell_type": "code",
      "metadata": {
        "colab": {
          "base_uri": "https://localhost:8080/"
        },
        "id": "kFKChC2GtvkA",
        "outputId": "d43ae9b0-cbbe-4d2c-a5af-d1f0e67c6f87"
      },
      "source": [
        "start_year = df['fyear'].min()\n",
        "end_year = df['fyear'].max()\n",
        "\n",
        "print(start_year, end_year)"
      ],
      "execution_count": 3,
      "outputs": [
        {
          "output_type": "stream",
          "text": [
            "1990 2014\n"
          ],
          "name": "stdout"
        }
      ]
    },
    {
      "cell_type": "code",
      "metadata": {
        "id": "pmFouX-PgQ22",
        "outputId": "36ff5d8e-fbba-4f0a-f60c-e63cf2802264",
        "colab": {
          "base_uri": "https://localhost:8080/",
          "height": 583
        }
      },
      "source": [
        "company1234 = df[df['gvkey']==1234]\n",
        "company1234 = company1234[['fyear', 'act']]\n",
        "company1234"
      ],
      "execution_count": 6,
      "outputs": [
        {
          "output_type": "execute_result",
          "data": {
            "text/html": [
              "<div>\n",
              "<style scoped>\n",
              "    .dataframe tbody tr th:only-of-type {\n",
              "        vertical-align: middle;\n",
              "    }\n",
              "\n",
              "    .dataframe tbody tr th {\n",
              "        vertical-align: top;\n",
              "    }\n",
              "\n",
              "    .dataframe thead th {\n",
              "        text-align: right;\n",
              "    }\n",
              "</style>\n",
              "<table border=\"1\" class=\"dataframe\">\n",
              "  <thead>\n",
              "    <tr style=\"text-align: right;\">\n",
              "      <th></th>\n",
              "      <th>fyear</th>\n",
              "      <th>act</th>\n",
              "    </tr>\n",
              "  </thead>\n",
              "  <tbody>\n",
              "    <tr>\n",
              "      <th>57</th>\n",
              "      <td>1990</td>\n",
              "      <td>16.531</td>\n",
              "    </tr>\n",
              "    <tr>\n",
              "      <th>4639</th>\n",
              "      <td>1991</td>\n",
              "      <td>21.123</td>\n",
              "    </tr>\n",
              "    <tr>\n",
              "      <th>9343</th>\n",
              "      <td>1992</td>\n",
              "      <td>23.232</td>\n",
              "    </tr>\n",
              "    <tr>\n",
              "      <th>14307</th>\n",
              "      <td>1993</td>\n",
              "      <td>23.520</td>\n",
              "    </tr>\n",
              "    <tr>\n",
              "      <th>19684</th>\n",
              "      <td>1994</td>\n",
              "      <td>12.666</td>\n",
              "    </tr>\n",
              "    <tr>\n",
              "      <th>31595</th>\n",
              "      <td>1996</td>\n",
              "      <td>24.323</td>\n",
              "    </tr>\n",
              "    <tr>\n",
              "      <th>51840</th>\n",
              "      <td>1999</td>\n",
              "      <td>18.702</td>\n",
              "    </tr>\n",
              "    <tr>\n",
              "      <th>65418</th>\n",
              "      <td>2001</td>\n",
              "      <td>20.678</td>\n",
              "    </tr>\n",
              "    <tr>\n",
              "      <th>95621</th>\n",
              "      <td>2006</td>\n",
              "      <td>30.658</td>\n",
              "    </tr>\n",
              "    <tr>\n",
              "      <th>101526</th>\n",
              "      <td>2007</td>\n",
              "      <td>32.609</td>\n",
              "    </tr>\n",
              "    <tr>\n",
              "      <th>107393</th>\n",
              "      <td>2008</td>\n",
              "      <td>49.107</td>\n",
              "    </tr>\n",
              "    <tr>\n",
              "      <th>113002</th>\n",
              "      <td>2009</td>\n",
              "      <td>56.202</td>\n",
              "    </tr>\n",
              "    <tr>\n",
              "      <th>118369</th>\n",
              "      <td>2010</td>\n",
              "      <td>51.981</td>\n",
              "    </tr>\n",
              "    <tr>\n",
              "      <th>123757</th>\n",
              "      <td>2011</td>\n",
              "      <td>83.742</td>\n",
              "    </tr>\n",
              "    <tr>\n",
              "      <th>129159</th>\n",
              "      <td>2012</td>\n",
              "      <td>56.747</td>\n",
              "    </tr>\n",
              "    <tr>\n",
              "      <th>134787</th>\n",
              "      <td>2013</td>\n",
              "      <td>90.319</td>\n",
              "    </tr>\n",
              "    <tr>\n",
              "      <th>140435</th>\n",
              "      <td>2014</td>\n",
              "      <td>74.136</td>\n",
              "    </tr>\n",
              "  </tbody>\n",
              "</table>\n",
              "</div>"
            ],
            "text/plain": [
              "        fyear     act\n",
              "57       1990  16.531\n",
              "4639     1991  21.123\n",
              "9343     1992  23.232\n",
              "14307    1993  23.520\n",
              "19684    1994  12.666\n",
              "31595    1996  24.323\n",
              "51840    1999  18.702\n",
              "65418    2001  20.678\n",
              "95621    2006  30.658\n",
              "101526   2007  32.609\n",
              "107393   2008  49.107\n",
              "113002   2009  56.202\n",
              "118369   2010  51.981\n",
              "123757   2011  83.742\n",
              "129159   2012  56.747\n",
              "134787   2013  90.319\n",
              "140435   2014  74.136"
            ]
          },
          "metadata": {
            "tags": []
          },
          "execution_count": 6
        }
      ]
    },
    {
      "cell_type": "code",
      "metadata": {
        "id": "Dlvr2RUjyy7e",
        "outputId": "93b650cc-fa39-475e-c60e-a29bf9240206",
        "colab": {
          "base_uri": "https://localhost:8080/",
          "height": 846
        }
      },
      "source": [
        "import sqldf \n",
        "henry_df =df[['gvkey','fyear']]\n",
        "henry_df['file_ind'] = 1\n",
        "henry_df \n",
        "\n",
        "\"\"\"\n",
        "def cartesian_product_basic(left, right):\n",
        "    return (\n",
        "       left.assign(key=1).merge(right.assign(key=1), on='key').drop('key', 1))\n",
        "\n",
        "cartesian_product_basic(henry_df, henry_df)\n",
        "\"\"\"\n",
        "\n",
        "company = df[df['gvkey']==1004]\n",
        "print(company)\n",
        "q = \"\"\"\n",
        "SELECT y.gvkey, x.fyear,y.file_ind\n",
        "FROM henry_df AS x\n",
        "CROSS JOIN henry_df as y\n",
        "ON x.file_ind = y.file_ind\n",
        "WHERE x.fyear >= y.fyear AND x.gvkey = y.gvkey\n",
        "ORDER BY y.gvkey, x.fyear asc\n",
        "\"\"\"\n",
        "\n",
        "sqldf.run(q)\n"
      ],
      "execution_count": 11,
      "outputs": [
        {
          "output_type": "stream",
          "text": [
            "/usr/local/lib/python3.7/dist-packages/ipykernel_launcher.py:3: SettingWithCopyWarning: \n",
            "A value is trying to be set on a copy of a slice from a DataFrame.\n",
            "Try using .loc[row_indexer,col_indexer] = value instead\n",
            "\n",
            "See the caveats in the documentation: https://pandas.pydata.org/pandas-docs/stable/user_guide/indexing.html#returning-a-view-versus-a-copy\n",
            "  This is separate from the ipykernel package so we can avoid doing imports until\n"
          ],
          "name": "stderr"
        },
        {
          "output_type": "stream",
          "text": [
            "        fyear  gvkey    sich  insbnk  ...       dpi      reoa      EBIT    ch_fcf\n",
            "4582     1991   1004  5080.0       0  ...  0.968053  0.259703  0.055586 -0.020650\n",
            "38301    1997   1004  5080.0       0  ...  1.002534  0.220100  0.097905 -0.094099\n",
            "65386    2001   1004  5080.0       0  ...  0.810264  0.196569 -0.110435 -0.040463\n",
            "71748    2002   1004  5080.0       0  ...  1.283581  0.180749  0.000071  0.086275\n",
            "77815    2003   1004  5080.0       0  ...  1.012580  0.185938  0.028939  0.030194\n",
            "83796    2004   1004  5080.0       0  ...  0.827183  0.194543  0.047713  0.002089\n",
            "101501   2007   1004  5080.0       0  ...  0.965768  0.233614  0.100907 -0.051994\n",
            "107369   2008   1004  5080.0       0  ...  0.804665  0.280107  0.098969 -0.040613\n",
            "112981   2009   1004  5080.0       0  ...  1.359161  0.259580  0.061588 -0.107931\n",
            "118348   2010   1004  5080.0       0  ...  0.838888  0.274390  0.079743 -0.049365\n",
            "123737   2011   1004  5080.0       0  ...  0.829860  0.221612  0.059652 -0.013265\n",
            "129141   2012   1004  5080.0       0  ...  0.737855  0.253826  0.057700 -0.027061\n",
            "134771   2013   1004  5080.0       0  ...  0.942815  0.280382  0.066833 -0.022784\n",
            "140418   2014   1004  5080.0       0  ...  0.903432  0.398614  0.005413 -0.003392\n",
            "\n",
            "[14 rows x 51 columns]\n"
          ],
          "name": "stdout"
        },
        {
          "output_type": "execute_result",
          "data": {
            "text/html": [
              "<div>\n",
              "<style scoped>\n",
              "    .dataframe tbody tr th:only-of-type {\n",
              "        vertical-align: middle;\n",
              "    }\n",
              "\n",
              "    .dataframe tbody tr th {\n",
              "        vertical-align: top;\n",
              "    }\n",
              "\n",
              "    .dataframe thead th {\n",
              "        text-align: right;\n",
              "    }\n",
              "</style>\n",
              "<table border=\"1\" class=\"dataframe\">\n",
              "  <thead>\n",
              "    <tr style=\"text-align: right;\">\n",
              "      <th></th>\n",
              "      <th>gvkey</th>\n",
              "      <th>fyear</th>\n",
              "      <th>file_ind</th>\n",
              "    </tr>\n",
              "  </thead>\n",
              "  <tbody>\n",
              "    <tr>\n",
              "      <th>0</th>\n",
              "      <td>1004</td>\n",
              "      <td>1991</td>\n",
              "      <td>1</td>\n",
              "    </tr>\n",
              "    <tr>\n",
              "      <th>1</th>\n",
              "      <td>1004</td>\n",
              "      <td>1997</td>\n",
              "      <td>1</td>\n",
              "    </tr>\n",
              "    <tr>\n",
              "      <th>2</th>\n",
              "      <td>1004</td>\n",
              "      <td>1997</td>\n",
              "      <td>1</td>\n",
              "    </tr>\n",
              "    <tr>\n",
              "      <th>3</th>\n",
              "      <td>1004</td>\n",
              "      <td>2001</td>\n",
              "      <td>1</td>\n",
              "    </tr>\n",
              "    <tr>\n",
              "      <th>4</th>\n",
              "      <td>1004</td>\n",
              "      <td>2001</td>\n",
              "      <td>1</td>\n",
              "    </tr>\n",
              "    <tr>\n",
              "      <th>...</th>\n",
              "      <td>...</td>\n",
              "      <td>...</td>\n",
              "      <td>...</td>\n",
              "    </tr>\n",
              "    <tr>\n",
              "      <th>1026093</th>\n",
              "      <td>316056</td>\n",
              "      <td>2013</td>\n",
              "      <td>1</td>\n",
              "    </tr>\n",
              "    <tr>\n",
              "      <th>1026094</th>\n",
              "      <td>316056</td>\n",
              "      <td>2014</td>\n",
              "      <td>1</td>\n",
              "    </tr>\n",
              "    <tr>\n",
              "      <th>1026095</th>\n",
              "      <td>316056</td>\n",
              "      <td>2014</td>\n",
              "      <td>1</td>\n",
              "    </tr>\n",
              "    <tr>\n",
              "      <th>1026096</th>\n",
              "      <td>317260</td>\n",
              "      <td>2014</td>\n",
              "      <td>1</td>\n",
              "    </tr>\n",
              "    <tr>\n",
              "      <th>1026097</th>\n",
              "      <td>317264</td>\n",
              "      <td>2014</td>\n",
              "      <td>1</td>\n",
              "    </tr>\n",
              "  </tbody>\n",
              "</table>\n",
              "<p>1026098 rows × 3 columns</p>\n",
              "</div>"
            ],
            "text/plain": [
              "          gvkey  fyear  file_ind\n",
              "0          1004   1991         1\n",
              "1          1004   1997         1\n",
              "2          1004   1997         1\n",
              "3          1004   2001         1\n",
              "4          1004   2001         1\n",
              "...         ...    ...       ...\n",
              "1026093  316056   2013         1\n",
              "1026094  316056   2014         1\n",
              "1026095  316056   2014         1\n",
              "1026096  317260   2014         1\n",
              "1026097  317264   2014         1\n",
              "\n",
              "[1026098 rows x 3 columns]"
            ]
          },
          "metadata": {
            "tags": []
          },
          "execution_count": 11
        }
      ]
    },
    {
      "cell_type": "code",
      "metadata": {
        "id": "qmP678EJyWWY"
      },
      "source": [
        ""
      ],
      "execution_count": null,
      "outputs": []
    },
    {
      "cell_type": "code",
      "metadata": {
        "id": "lwsICDXknXNn",
        "outputId": "54b6a14e-5123-45e6-b06f-e36776b86458",
        "colab": {
          "base_uri": "https://localhost:8080/"
        }
      },
      "source": [
        "# fill numerical missing values = 0\n",
        "start_year = 1990\n",
        "end_year = 2014\n",
        "\n",
        "\n",
        "left_df = pd.DataFrame({'fyear': range(start_year, end_year+1)})\n",
        "print(left_df)\n",
        "#left_df_imputed_missing = left_df.merge(company1234, on='fyear', how='left')\n",
        "#left_df_imputed_missing.loc[left_df_imputed_missing['act'].isnull(),'act'] = 0\n",
        "  "
      ],
      "execution_count": 4,
      "outputs": [
        {
          "output_type": "stream",
          "text": [
            "    fyear\n",
            "0    1990\n",
            "1    1991\n",
            "2    1992\n",
            "3    1993\n",
            "4    1994\n",
            "5    1995\n",
            "6    1996\n",
            "7    1997\n",
            "8    1998\n",
            "9    1999\n",
            "10   2000\n",
            "11   2001\n",
            "12   2002\n",
            "13   2003\n",
            "14   2004\n",
            "15   2005\n",
            "16   2006\n",
            "17   2007\n",
            "18   2008\n",
            "19   2009\n",
            "20   2010\n",
            "21   2011\n",
            "22   2012\n",
            "23   2013\n",
            "24   2014\n"
          ],
          "name": "stdout"
        }
      ]
    },
    {
      "cell_type": "code",
      "metadata": {
        "colab": {
          "base_uri": "https://localhost:8080/",
          "height": 455
        },
        "id": "b7JiL0vWo8Ss",
        "outputId": "8dae5249-39bc-4791-bece-9fae7e469ea0"
      },
      "source": [
        "import numpy as np\n",
        "# variable act for all companies\n",
        "# fill numerical missing values = 0\n",
        "start_year = 1990\n",
        "end_year = 2014\n",
        "\n",
        "var_act = df[['gvkey', 'fyear', 'act']]\n",
        "left_df = pd.DataFrame({'fyear': range(start_year, end_year+1)})\n",
        "#left_df_imputed_missing = left_df.merge(company1234, on='fyear', how='left')\n",
        "#left_df_imputed_missing.loc[left_df_imputed_missing['act'].isnull(),'act'] = 0\n",
        "\n",
        "# one hot encode missing years\n",
        "years_one_hot = var_act.pivot(index='gvkey', columns='fyear', values='fyear')\n",
        "#np.where((years_one_hot.isna()), 0, 1)\n",
        "years_one_hot.mask(~(years_one_hot.isna()), 1, inplace=True)\n",
        "years_one_hot.mask(years_one_hot.isna(), 0, inplace=True)\n",
        "years_one_hot\n",
        "\n",
        "# pivot numerical "
      ],
      "execution_count": null,
      "outputs": [
        {
          "output_type": "execute_result",
          "data": {
            "text/html": [
              "<div>\n",
              "<style scoped>\n",
              "    .dataframe tbody tr th:only-of-type {\n",
              "        vertical-align: middle;\n",
              "    }\n",
              "\n",
              "    .dataframe tbody tr th {\n",
              "        vertical-align: top;\n",
              "    }\n",
              "\n",
              "    .dataframe thead th {\n",
              "        text-align: right;\n",
              "    }\n",
              "</style>\n",
              "<table border=\"1\" class=\"dataframe\">\n",
              "  <thead>\n",
              "    <tr style=\"text-align: right;\">\n",
              "      <th>fyear</th>\n",
              "      <th>1990</th>\n",
              "      <th>1991</th>\n",
              "      <th>1992</th>\n",
              "      <th>1993</th>\n",
              "      <th>1994</th>\n",
              "      <th>1995</th>\n",
              "      <th>1996</th>\n",
              "      <th>1997</th>\n",
              "      <th>1998</th>\n",
              "      <th>1999</th>\n",
              "      <th>2000</th>\n",
              "      <th>2001</th>\n",
              "      <th>2002</th>\n",
              "      <th>2003</th>\n",
              "      <th>2004</th>\n",
              "      <th>2005</th>\n",
              "      <th>2006</th>\n",
              "      <th>2007</th>\n",
              "      <th>2008</th>\n",
              "      <th>2009</th>\n",
              "      <th>2010</th>\n",
              "      <th>2011</th>\n",
              "      <th>2012</th>\n",
              "      <th>2013</th>\n",
              "      <th>2014</th>\n",
              "    </tr>\n",
              "    <tr>\n",
              "      <th>gvkey</th>\n",
              "      <th></th>\n",
              "      <th></th>\n",
              "      <th></th>\n",
              "      <th></th>\n",
              "      <th></th>\n",
              "      <th></th>\n",
              "      <th></th>\n",
              "      <th></th>\n",
              "      <th></th>\n",
              "      <th></th>\n",
              "      <th></th>\n",
              "      <th></th>\n",
              "      <th></th>\n",
              "      <th></th>\n",
              "      <th></th>\n",
              "      <th></th>\n",
              "      <th></th>\n",
              "      <th></th>\n",
              "      <th></th>\n",
              "      <th></th>\n",
              "      <th></th>\n",
              "      <th></th>\n",
              "      <th></th>\n",
              "      <th></th>\n",
              "      <th></th>\n",
              "    </tr>\n",
              "  </thead>\n",
              "  <tbody>\n",
              "    <tr>\n",
              "      <th>1004</th>\n",
              "      <td>0.0</td>\n",
              "      <td>1.0</td>\n",
              "      <td>0.0</td>\n",
              "      <td>0.0</td>\n",
              "      <td>0.0</td>\n",
              "      <td>0.0</td>\n",
              "      <td>0.0</td>\n",
              "      <td>1.0</td>\n",
              "      <td>0.0</td>\n",
              "      <td>0.0</td>\n",
              "      <td>0.0</td>\n",
              "      <td>1.0</td>\n",
              "      <td>1.0</td>\n",
              "      <td>1.0</td>\n",
              "      <td>1.0</td>\n",
              "      <td>0.0</td>\n",
              "      <td>0.0</td>\n",
              "      <td>1.0</td>\n",
              "      <td>1.0</td>\n",
              "      <td>1.0</td>\n",
              "      <td>1.0</td>\n",
              "      <td>1.0</td>\n",
              "      <td>1.0</td>\n",
              "      <td>1.0</td>\n",
              "      <td>1.0</td>\n",
              "    </tr>\n",
              "    <tr>\n",
              "      <th>1009</th>\n",
              "      <td>1.0</td>\n",
              "      <td>1.0</td>\n",
              "      <td>1.0</td>\n",
              "      <td>1.0</td>\n",
              "      <td>1.0</td>\n",
              "      <td>0.0</td>\n",
              "      <td>0.0</td>\n",
              "      <td>0.0</td>\n",
              "      <td>0.0</td>\n",
              "      <td>0.0</td>\n",
              "      <td>0.0</td>\n",
              "      <td>0.0</td>\n",
              "      <td>0.0</td>\n",
              "      <td>0.0</td>\n",
              "      <td>0.0</td>\n",
              "      <td>0.0</td>\n",
              "      <td>0.0</td>\n",
              "      <td>0.0</td>\n",
              "      <td>0.0</td>\n",
              "      <td>0.0</td>\n",
              "      <td>0.0</td>\n",
              "      <td>0.0</td>\n",
              "      <td>0.0</td>\n",
              "      <td>0.0</td>\n",
              "      <td>0.0</td>\n",
              "    </tr>\n",
              "    <tr>\n",
              "      <th>1011</th>\n",
              "      <td>1.0</td>\n",
              "      <td>1.0</td>\n",
              "      <td>1.0</td>\n",
              "      <td>1.0</td>\n",
              "      <td>1.0</td>\n",
              "      <td>0.0</td>\n",
              "      <td>0.0</td>\n",
              "      <td>0.0</td>\n",
              "      <td>0.0</td>\n",
              "      <td>0.0</td>\n",
              "      <td>0.0</td>\n",
              "      <td>0.0</td>\n",
              "      <td>0.0</td>\n",
              "      <td>0.0</td>\n",
              "      <td>0.0</td>\n",
              "      <td>0.0</td>\n",
              "      <td>0.0</td>\n",
              "      <td>0.0</td>\n",
              "      <td>0.0</td>\n",
              "      <td>0.0</td>\n",
              "      <td>0.0</td>\n",
              "      <td>0.0</td>\n",
              "      <td>0.0</td>\n",
              "      <td>0.0</td>\n",
              "      <td>0.0</td>\n",
              "    </tr>\n",
              "    <tr>\n",
              "      <th>1013</th>\n",
              "      <td>0.0</td>\n",
              "      <td>1.0</td>\n",
              "      <td>0.0</td>\n",
              "      <td>0.0</td>\n",
              "      <td>1.0</td>\n",
              "      <td>1.0</td>\n",
              "      <td>1.0</td>\n",
              "      <td>1.0</td>\n",
              "      <td>1.0</td>\n",
              "      <td>0.0</td>\n",
              "      <td>0.0</td>\n",
              "      <td>1.0</td>\n",
              "      <td>1.0</td>\n",
              "      <td>1.0</td>\n",
              "      <td>0.0</td>\n",
              "      <td>1.0</td>\n",
              "      <td>1.0</td>\n",
              "      <td>1.0</td>\n",
              "      <td>1.0</td>\n",
              "      <td>1.0</td>\n",
              "      <td>1.0</td>\n",
              "      <td>0.0</td>\n",
              "      <td>0.0</td>\n",
              "      <td>0.0</td>\n",
              "      <td>0.0</td>\n",
              "    </tr>\n",
              "    <tr>\n",
              "      <th>1014</th>\n",
              "      <td>0.0</td>\n",
              "      <td>1.0</td>\n",
              "      <td>1.0</td>\n",
              "      <td>0.0</td>\n",
              "      <td>0.0</td>\n",
              "      <td>0.0</td>\n",
              "      <td>0.0</td>\n",
              "      <td>0.0</td>\n",
              "      <td>0.0</td>\n",
              "      <td>0.0</td>\n",
              "      <td>0.0</td>\n",
              "      <td>0.0</td>\n",
              "      <td>0.0</td>\n",
              "      <td>0.0</td>\n",
              "      <td>0.0</td>\n",
              "      <td>0.0</td>\n",
              "      <td>0.0</td>\n",
              "      <td>0.0</td>\n",
              "      <td>0.0</td>\n",
              "      <td>0.0</td>\n",
              "      <td>0.0</td>\n",
              "      <td>0.0</td>\n",
              "      <td>0.0</td>\n",
              "      <td>0.0</td>\n",
              "      <td>0.0</td>\n",
              "    </tr>\n",
              "    <tr>\n",
              "      <th>...</th>\n",
              "      <td>...</td>\n",
              "      <td>...</td>\n",
              "      <td>...</td>\n",
              "      <td>...</td>\n",
              "      <td>...</td>\n",
              "      <td>...</td>\n",
              "      <td>...</td>\n",
              "      <td>...</td>\n",
              "      <td>...</td>\n",
              "      <td>...</td>\n",
              "      <td>...</td>\n",
              "      <td>...</td>\n",
              "      <td>...</td>\n",
              "      <td>...</td>\n",
              "      <td>...</td>\n",
              "      <td>...</td>\n",
              "      <td>...</td>\n",
              "      <td>...</td>\n",
              "      <td>...</td>\n",
              "      <td>...</td>\n",
              "      <td>...</td>\n",
              "      <td>...</td>\n",
              "      <td>...</td>\n",
              "      <td>...</td>\n",
              "      <td>...</td>\n",
              "    </tr>\n",
              "    <tr>\n",
              "      <th>315318</th>\n",
              "      <td>0.0</td>\n",
              "      <td>0.0</td>\n",
              "      <td>0.0</td>\n",
              "      <td>0.0</td>\n",
              "      <td>0.0</td>\n",
              "      <td>0.0</td>\n",
              "      <td>0.0</td>\n",
              "      <td>0.0</td>\n",
              "      <td>0.0</td>\n",
              "      <td>0.0</td>\n",
              "      <td>0.0</td>\n",
              "      <td>0.0</td>\n",
              "      <td>0.0</td>\n",
              "      <td>0.0</td>\n",
              "      <td>0.0</td>\n",
              "      <td>0.0</td>\n",
              "      <td>0.0</td>\n",
              "      <td>0.0</td>\n",
              "      <td>0.0</td>\n",
              "      <td>0.0</td>\n",
              "      <td>0.0</td>\n",
              "      <td>0.0</td>\n",
              "      <td>0.0</td>\n",
              "      <td>0.0</td>\n",
              "      <td>1.0</td>\n",
              "    </tr>\n",
              "    <tr>\n",
              "      <th>315669</th>\n",
              "      <td>0.0</td>\n",
              "      <td>0.0</td>\n",
              "      <td>0.0</td>\n",
              "      <td>0.0</td>\n",
              "      <td>0.0</td>\n",
              "      <td>0.0</td>\n",
              "      <td>0.0</td>\n",
              "      <td>0.0</td>\n",
              "      <td>0.0</td>\n",
              "      <td>0.0</td>\n",
              "      <td>0.0</td>\n",
              "      <td>0.0</td>\n",
              "      <td>0.0</td>\n",
              "      <td>0.0</td>\n",
              "      <td>0.0</td>\n",
              "      <td>0.0</td>\n",
              "      <td>0.0</td>\n",
              "      <td>0.0</td>\n",
              "      <td>0.0</td>\n",
              "      <td>0.0</td>\n",
              "      <td>0.0</td>\n",
              "      <td>0.0</td>\n",
              "      <td>0.0</td>\n",
              "      <td>1.0</td>\n",
              "      <td>0.0</td>\n",
              "    </tr>\n",
              "    <tr>\n",
              "      <th>316056</th>\n",
              "      <td>0.0</td>\n",
              "      <td>0.0</td>\n",
              "      <td>0.0</td>\n",
              "      <td>0.0</td>\n",
              "      <td>0.0</td>\n",
              "      <td>0.0</td>\n",
              "      <td>0.0</td>\n",
              "      <td>0.0</td>\n",
              "      <td>0.0</td>\n",
              "      <td>0.0</td>\n",
              "      <td>0.0</td>\n",
              "      <td>0.0</td>\n",
              "      <td>0.0</td>\n",
              "      <td>0.0</td>\n",
              "      <td>0.0</td>\n",
              "      <td>0.0</td>\n",
              "      <td>0.0</td>\n",
              "      <td>0.0</td>\n",
              "      <td>0.0</td>\n",
              "      <td>0.0</td>\n",
              "      <td>0.0</td>\n",
              "      <td>0.0</td>\n",
              "      <td>0.0</td>\n",
              "      <td>1.0</td>\n",
              "      <td>1.0</td>\n",
              "    </tr>\n",
              "    <tr>\n",
              "      <th>317260</th>\n",
              "      <td>0.0</td>\n",
              "      <td>0.0</td>\n",
              "      <td>0.0</td>\n",
              "      <td>0.0</td>\n",
              "      <td>0.0</td>\n",
              "      <td>0.0</td>\n",
              "      <td>0.0</td>\n",
              "      <td>0.0</td>\n",
              "      <td>0.0</td>\n",
              "      <td>0.0</td>\n",
              "      <td>0.0</td>\n",
              "      <td>0.0</td>\n",
              "      <td>0.0</td>\n",
              "      <td>0.0</td>\n",
              "      <td>0.0</td>\n",
              "      <td>0.0</td>\n",
              "      <td>0.0</td>\n",
              "      <td>0.0</td>\n",
              "      <td>0.0</td>\n",
              "      <td>0.0</td>\n",
              "      <td>0.0</td>\n",
              "      <td>0.0</td>\n",
              "      <td>0.0</td>\n",
              "      <td>0.0</td>\n",
              "      <td>1.0</td>\n",
              "    </tr>\n",
              "    <tr>\n",
              "      <th>317264</th>\n",
              "      <td>0.0</td>\n",
              "      <td>0.0</td>\n",
              "      <td>0.0</td>\n",
              "      <td>0.0</td>\n",
              "      <td>0.0</td>\n",
              "      <td>0.0</td>\n",
              "      <td>0.0</td>\n",
              "      <td>0.0</td>\n",
              "      <td>0.0</td>\n",
              "      <td>0.0</td>\n",
              "      <td>0.0</td>\n",
              "      <td>0.0</td>\n",
              "      <td>0.0</td>\n",
              "      <td>0.0</td>\n",
              "      <td>0.0</td>\n",
              "      <td>0.0</td>\n",
              "      <td>0.0</td>\n",
              "      <td>0.0</td>\n",
              "      <td>0.0</td>\n",
              "      <td>0.0</td>\n",
              "      <td>0.0</td>\n",
              "      <td>0.0</td>\n",
              "      <td>0.0</td>\n",
              "      <td>0.0</td>\n",
              "      <td>1.0</td>\n",
              "    </tr>\n",
              "  </tbody>\n",
              "</table>\n",
              "<p>18444 rows × 25 columns</p>\n",
              "</div>"
            ],
            "text/plain": [
              "fyear   1990  1991  1992  1993  1994  1995  ...  2009  2010  2011  2012  2013  2014\n",
              "gvkey                                       ...                                    \n",
              "1004     0.0   1.0   0.0   0.0   0.0   0.0  ...   1.0   1.0   1.0   1.0   1.0   1.0\n",
              "1009     1.0   1.0   1.0   1.0   1.0   0.0  ...   0.0   0.0   0.0   0.0   0.0   0.0\n",
              "1011     1.0   1.0   1.0   1.0   1.0   0.0  ...   0.0   0.0   0.0   0.0   0.0   0.0\n",
              "1013     0.0   1.0   0.0   0.0   1.0   1.0  ...   1.0   1.0   0.0   0.0   0.0   0.0\n",
              "1014     0.0   1.0   1.0   0.0   0.0   0.0  ...   0.0   0.0   0.0   0.0   0.0   0.0\n",
              "...      ...   ...   ...   ...   ...   ...  ...   ...   ...   ...   ...   ...   ...\n",
              "315318   0.0   0.0   0.0   0.0   0.0   0.0  ...   0.0   0.0   0.0   0.0   0.0   1.0\n",
              "315669   0.0   0.0   0.0   0.0   0.0   0.0  ...   0.0   0.0   0.0   0.0   1.0   0.0\n",
              "316056   0.0   0.0   0.0   0.0   0.0   0.0  ...   0.0   0.0   0.0   0.0   1.0   1.0\n",
              "317260   0.0   0.0   0.0   0.0   0.0   0.0  ...   0.0   0.0   0.0   0.0   0.0   1.0\n",
              "317264   0.0   0.0   0.0   0.0   0.0   0.0  ...   0.0   0.0   0.0   0.0   0.0   1.0\n",
              "\n",
              "[18444 rows x 25 columns]"
            ]
          },
          "metadata": {
            "tags": []
          },
          "execution_count": 28
        }
      ]
    },
    {
      "cell_type": "code",
      "metadata": {
        "id": "fL9x6Jt_n9T7",
        "colab": {
          "base_uri": "https://localhost:8080/"
        },
        "outputId": "072fd6a0-fc5e-4a25-e0fb-bf4e332b1317"
      },
      "source": [
        "var_act['fyear']"
      ],
      "execution_count": null,
      "outputs": [
        {
          "output_type": "execute_result",
          "data": {
            "text/plain": [
              "0         1990\n",
              "1         1990\n",
              "2         1990\n",
              "3         1990\n",
              "4         1990\n",
              "          ... \n",
              "146040    2014\n",
              "146041    2014\n",
              "146042    2014\n",
              "146043    2014\n",
              "146044    2014\n",
              "Name: fyear, Length: 146045, dtype: int64"
            ]
          },
          "metadata": {
            "tags": []
          },
          "execution_count": 15
        }
      ]
    },
    {
      "cell_type": "code",
      "metadata": {
        "colab": {
          "base_uri": "https://localhost:8080/",
          "height": 297
        },
        "id": "QBBUWY6fZ_jJ",
        "outputId": "3a48d2d1-c8c2-47d9-9459-3505f4a12abd"
      },
      "source": [
        "from matplotlib import pyplot as plt\n",
        "%matplotlib inline\n",
        "\n",
        "fig, ax = plt.subplots()\n",
        "left_df_imputed_missing.set_index('fyear').plot(legend=False,ax=ax)"
      ],
      "execution_count": null,
      "outputs": [
        {
          "output_type": "execute_result",
          "data": {
            "text/plain": [
              "<matplotlib.axes._subplots.AxesSubplot at 0x7f3707634d30>"
            ]
          },
          "metadata": {
            "tags": []
          },
          "execution_count": 8
        },
        {
          "output_type": "display_data",
          "data": {
            "image/png": "[encoded data removed]",
            "text/plain": [
              "<Figure size 432x288 with 1 Axes>"
            ]
          },
          "metadata": {
            "tags": [],
            "needs_background": "light"
          }
        }
      ]
    },
    {
      "cell_type": "code",
      "metadata": {
        "id": "pbfcRFlYiOnN"
      },
      "source": [
        "import tsai\n",
        "from tsai.all import *\n",
        "dsid = 'LSST'\n",
        "X, y, splits = get_UCR_data(dsid, split_data=False)"
      ],
      "execution_count": null,
      "outputs": []
    },
    {
      "cell_type": "code",
      "metadata": {
        "colab": {
          "base_uri": "https://localhost:8080/"
        },
        "id": "mT9wJPevhRjS",
        "outputId": "aa492dda-44b7-40e2-af78-8d2f44074252"
      },
      "source": [
        "X"
      ],
      "execution_count": null,
      "outputs": [
        {
          "output_type": "execute_result",
          "data": {
            "text/plain": [
              "memmap([[[ 1.7597e+01,  2.2974e-01, -2.9654e+01, ...,  1.1982e+02,\n",
              "           9.1591e+01,  4.3719e+01],\n",
              "         [ 8.1713e+00, -5.8956e+00, -2.1296e+01, ...,  2.1849e+02,\n",
              "           1.0378e+02,  3.0689e+01],\n",
              "         [-1.7842e+00,  1.6837e+01,  2.9103e+01, ...,  1.6398e+03,\n",
              "           1.8238e+03,  9.5092e+02],\n",
              "         [-1.9706e+01,  5.0390e+00, -4.7503e-01, ...,  5.9787e+02,\n",
              "           1.2460e+03,  8.5927e+02],\n",
              "         [-9.7135e+00,  2.4332e+00,  7.5391e+01, ...,  2.1922e+03,\n",
              "           1.1301e+04,  8.1331e+03],\n",
              "         [-6.1887e+01,  5.8914e+01,  1.0665e+01, ...,  1.8484e+01,\n",
              "           7.5107e+02,  9.8883e+02]],\n",
              "\n",
              "        [[ 2.4209e+00,  1.6847e+00,  5.0692e-01, ..., -1.5618e+01,\n",
              "          -1.0702e+01, -4.6352e+00],\n",
              "         [-5.6039e-01,  2.3989e+01,  5.0281e+01, ..., -7.4233e+00,\n",
              "          -6.3568e+00, -3.2769e+00],\n",
              "         [ 2.3654e+01,  1.7803e+01,  5.1196e+01, ...,  3.7833e+00,\n",
              "          -4.6464e+00, -5.9048e+00],\n",
              "         [-3.8171e+00, -1.9575e+01,  1.6036e+01, ...,  1.6565e+00,\n",
              "           6.7957e-01, -1.9564e-01],\n",
              "         [ 1.3721e+00, -8.2534e+00,  7.2974e-01, ..., -1.0438e+01,\n",
              "          -5.5260e+00,  1.1487e+00],\n",
              "         [ 8.2510e+00, -2.3959e+01, -1.8185e+01, ..., -5.5229e+00,\n",
              "           1.9070e+01,  2.3275e+01]],\n",
              "\n",
              "        [[ 3.9688e+01,  1.6399e+02,  2.7545e+02, ...,  3.1521e+01,\n",
              "           2.5363e+01,  1.2557e+01],\n",
              "         [ 7.0129e+02,  1.2559e+03,  1.7005e+03, ...,  9.1987e+00,\n",
              "           5.1979e+00,  2.2734e+00],\n",
              "         [ 3.0038e+03,  3.3818e+03,  3.0922e+03, ..., -4.7701e+00,\n",
              "           6.0153e+00,  4.4831e+00],\n",
              "         [ 3.4806e+01,  2.3965e+03,  3.3084e+03, ...,  1.5335e+01,\n",
              "          -6.8815e+00, -1.2885e+01],\n",
              "         [ 6.5036e+01,  5.1936e+01,  1.9858e+02, ...,  1.7212e+01,\n",
              "           1.0936e+01,  1.0488e+01],\n",
              "         [ 7.7808e+01, -7.0134e+01,  3.6742e+02, ...,  1.2384e+01,\n",
              "          -6.4854e+01, -6.6960e+01]],\n",
              "\n",
              "        ...,\n",
              "\n",
              "        [[ 1.1400e+00,  2.1945e+00,  1.6004e+00, ...,  2.2121e+01,\n",
              "           1.8474e+01,  9.3535e+00],\n",
              "         [ 2.4850e+00,  1.9365e+00,  2.1043e-01, ...,  1.2119e+01,\n",
              "           8.8972e+00,  4.2371e+00],\n",
              "         [-7.1205e-02,  1.7447e+00, -2.1041e+00, ...,  2.7369e+01,\n",
              "           2.3238e+01,  9.7146e+00],\n",
              "         [-5.0569e-01, -7.7699e+00, -7.2280e+00, ...,  6.5051e+01,\n",
              "           6.2891e+01,  3.3715e+01],\n",
              "         [ 1.2834e+00, -3.6226e+00, -5.4424e+00, ...,  6.4969e+01,\n",
              "           6.5359e+01,  3.9350e+01],\n",
              "         [-4.3511e+00,  1.2633e+01,  4.3723e+01, ...,  9.4632e+01,\n",
              "           1.0087e+02,  1.3182e+02]],\n",
              "\n",
              "        [[-6.1481e+00,  8.9735e+00,  1.0312e+01, ...,  5.5404e+00,\n",
              "           5.6740e+00,  3.0526e+00],\n",
              "         [ 1.8639e+00,  2.1766e+01,  3.3673e+01, ..., -5.6033e+00,\n",
              "          -7.5996e+00, -4.8759e+00],\n",
              "         [-1.1873e+00,  3.4001e-01, -3.7217e+00, ..., -3.8159e+00,\n",
              "          -3.8087e+00, -7.3585e-01],\n",
              "         [-1.1347e+00, -7.6650e+00,  1.1406e+01, ..., -6.1863e+00,\n",
              "          -1.1874e+00,  8.6103e-01],\n",
              "         [ 2.2785e+01,  1.0292e+00,  5.2453e+00, ...,  2.0287e+00,\n",
              "           5.6558e-02,  2.5279e+00],\n",
              "         [-2.7226e+01,  4.5604e+01,  2.8638e+01, ..., -4.7193e-01,\n",
              "          -1.7798e+01,  3.2497e+01]],\n",
              "\n",
              "        [[ 8.6689e+01,  7.5139e+01,  4.3397e+01, ..., -1.0913e+01,\n",
              "          -5.6757e+00, -1.8800e+00],\n",
              "         [ 1.5027e+02,  1.5054e+02,  1.2786e+02, ...,  6.4696e+00,\n",
              "           4.3369e+00,  1.9417e+00],\n",
              "         [ 2.7635e+02,  2.7783e+02,  2.1508e+02, ...,  1.4881e+01,\n",
              "           2.0978e+00, -4.3230e+00],\n",
              "         [ 3.5214e+02,  3.8575e+02,  3.5618e+02, ..., -2.6252e+00,\n",
              "          -6.6682e+00, -3.8225e+00],\n",
              "         [ 3.7872e+02,  3.9300e+02,  3.2898e+02, ...,  2.9251e+01,\n",
              "           1.5232e+01, -2.5876e+00],\n",
              "         [ 3.6274e+02,  4.2192e+02,  3.5188e+02, ..., -5.3287e+01,\n",
              "          -4.6827e+01, -2.3290e+01]]], dtype=float32)"
            ]
          },
          "metadata": {
            "tags": []
          },
          "execution_count": 5
        }
      ]
    },
    {
      "cell_type": "code",
      "metadata": {
        "colab": {
          "base_uri": "https://localhost:8080/"
        },
        "id": "dbM19poTjuOw",
        "outputId": "f568ebc4-9c50-4398-8263-711fe7aa4d61"
      },
      "source": [
        "y"
      ],
      "execution_count": null,
      "outputs": [
        {
          "output_type": "execute_result",
          "data": {
            "text/plain": [
              "memmap(['6', '6', '6', ..., '95', '95', '95'], dtype='<U2')"
            ]
          },
          "metadata": {
            "tags": []
          },
          "execution_count": 6
        }
      ]
    },
    {
      "cell_type": "code",
      "metadata": {
        "colab": {
          "base_uri": "https://localhost:8080/"
        },
        "id": "jqleUUJvjyEY",
        "outputId": "824041b8-885e-43ee-9d9b-b00c8390c507"
      },
      "source": [
        "X.shape"
      ],
      "execution_count": null,
      "outputs": [
        {
          "output_type": "execute_result",
          "data": {
            "text/plain": [
              "(4925, 6, 36)"
            ]
          },
          "metadata": {
            "tags": []
          },
          "execution_count": 9
        }
      ]
    },
    {
      "cell_type": "code",
      "metadata": {
        "id": "TYRwQ7oijzpX"
      },
      "source": [
        ""
      ],
      "execution_count": null,
      "outputs": []
    }
  ]
}