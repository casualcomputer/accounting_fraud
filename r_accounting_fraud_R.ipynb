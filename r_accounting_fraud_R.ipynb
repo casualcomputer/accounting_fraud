{
  "nbformat": 4,
  "nbformat_minor": 0,
  "metadata": {
    "colab": {
      "name": "r_accounting_fraud_HL.ipynb",
      "provenance": [],
      "collapsed_sections": [],
      "authorship_tag": "ABX9TyOFIPy36Va4x3sV7okT85YF",
      "include_colab_link": true
    },
    "kernelspec": {
      "display_name": "R",
      "name": "ir"
    }
  },
  "cells": [
    {
      "cell_type": "markdown",
      "metadata": {
        "id": "view-in-github",
        "colab_type": "text"
      },
      "source": [
        "<a href=\"https://colab.research.google.com/github/casualcomputer/accounting_fraud/blob/master/r_accounting_fraud_R.ipynb\" target=\"_parent\"><img src=\"https://colab.research.google.com/assets/colab-badge.svg\" alt=\"Open In Colab\"/></a>"
      ]
    },
    {
      "cell_type": "code",
      "metadata": {
        "colab": {
          "base_uri": "https://localhost:8080/"
        },
        "id": "WooAnxWmFxIQ",
        "outputId": "c2c11f3f-c94b-4262-a8ae-10bd89d32432"
      },
      "source": [
        "install.packages(\"zeallot\")\r\n",
        "install.packages(\"dplyr\")\r\n",
        "install.packages(\"scales\")\r\n",
        "install.packages(\"stringr\")"
      ],
      "execution_count": 2,
      "outputs": [
        {
          "output_type": "stream",
          "text": [
            "Installing package into ‘/usr/local/lib/R/site-library’\n",
            "(as ‘lib’ is unspecified)\n",
            "\n",
            "Installing package into ‘/usr/local/lib/R/site-library’\n",
            "(as ‘lib’ is unspecified)\n",
            "\n",
            "Installing package into ‘/usr/local/lib/R/site-library’\n",
            "(as ‘lib’ is unspecified)\n",
            "\n",
            "Installing package into ‘/usr/local/lib/R/site-library’\n",
            "(as ‘lib’ is unspecified)\n",
            "\n"
          ],
          "name": "stderr"
        }
      ]
    },
    {
      "cell_type": "code",
      "metadata": {
        "colab": {
          "base_uri": "https://localhost:8080/",
          "height": 1000
        },
        "id": "ZUXLOVhqF-RL",
        "outputId": "f07ff326-5978-4a3e-9764-e6dea629e251"
      },
      "source": [
        "library(dplyr)\r\n",
        "library(stringr)\r\n",
        "library(scales)\r\n",
        "library(zeallot)\r\n",
        "\r\n",
        "dataset <- read.csv(\"https://raw.githubusercontent.com/casualcomputer/accounting_fraud/master/uscecchini28.csv\")\r\n",
        "data_dictionary <- read.csv(\"https://raw.githubusercontent.com/casualcomputer/accounting_fraud/master/get_data_dict.csv\") #data dictionary: http://www.crsp.org/products/documentation/annual-data-industrial\r\n",
        "str(dataset)\r\n",
        "str(data_dictionary)"
      ],
      "execution_count": 6,
      "outputs": [
        {
          "output_type": "stream",
          "text": [
            "'data.frame':\t146045 obs. of  51 variables:\n",
            " $ fyear         : int  1990 1990 1990 1990 1990 1990 1990 1990 1990 1990 ...\n",
            " $ gvkey         : int  1009 1011 1017 1021 1028 1034 1036 1043 1045 1050 ...\n",
            " $ sich          : int  3460 4841 3812 3861 7385 2834 3440 3555 4512 9995 ...\n",
            " $ insbnk        : int  0 0 0 0 0 0 0 0 0 0 ...\n",
            " $ understatement: int  0 0 0 0 0 0 0 0 0 0 ...\n",
            " $ option        : int  0 0 0 0 0 0 0 0 0 0 ...\n",
            " $ p_aaer        : int  NA NA NA NA NA NA NA NA NA NA ...\n",
            " $ new_p_aaer    : int  NA NA NA NA NA NA NA NA NA NA ...\n",
            " $ misstate      : int  0 0 0 0 0 0 0 0 0 0 ...\n",
            " $ act           : num  10.05 1.25 55.04 24.68 17.32 ...\n",
            " $ ap            : num  3.736 0.803 3.601 3.948 3.52 ...\n",
            " $ at            : num  32.34 7.78 118.12 34.59 27.54 ...\n",
            " $ ceq           : num  6.262 0.667 44.393 7.751 -12.142 ...\n",
            " $ che           : num  0.002 0.171 3.132 0.411 1.017 ...\n",
            " $ cogs          : num  30.63 1.12 107.34 31.21 32.66 ...\n",
            " $ csho          : num  2.53 3.56 3.88 4.75 6.74 ...\n",
            " $ dlc           : num  3.283 0.021 6.446 8.791 32.206 ...\n",
            " $ dltis         : num  32.853 2.017 6.5 0.587 0 ...\n",
            " $ dltt          : num  17.691 5.871 37.603 8.906 0.266 ...\n",
            " $ dp            : num  1.97 0.7 6.27 1.32 2.71 ...\n",
            " $ ib            : num  1.431 -1.869 1.722 0.422 -23.577 ...\n",
            " $ invt          : num  2.355 0.663 4.292 15.463 8.971 ...\n",
            " $ ivao          : num  0 0.132 12.989 0 0 ...\n",
            " $ ivst          : num  0 0 2.91 0 0 ...\n",
            " $ lct           : num  8.38 1.25 32.62 16.21 39.42 ...\n",
            " $ lt            : num  26.07 7.12 73.73 25.55 39.68 ...\n",
            " $ ni            : num  2.135 -1.869 2.574 0.422 -22.812 ...\n",
            " $ ppegt         : num  31.77 7.33 78.33 11.14 5.78 ...\n",
            " $ pstk          : num  0 0 0 1.29 0 ...\n",
            " $ re            : num  5.42 -3.34 46.63 3.28 -25.95 ...\n",
            " $ rect          : num  6.89 0.29 47.37 8.52 6.35 ...\n",
            " $ sale          : num  40.52 3.63 144.26 48.29 33.54 ...\n",
            " $ sstk          : num  0 0.006 0 0 0 0 0 0.082 0 0 ...\n",
            " $ txp           : num  0 0 0 0.448 0 ...\n",
            " $ txt           : num  0.769 0 0.986 0.365 0 ...\n",
            " $ xint          : num  2.33 0.64 3.96 2.27 3.51 ...\n",
            " $ prcc_f        : num  6 1.19 5.12 1.56 1.12 ...\n",
            " $ dch_wc        : num  0.0696 -0.0656 0.0928 0.0141 -0.5405 ...\n",
            " $ ch_rsst       : num  0.046 -0.2409 0.0201 0.0351 -0.5753 ...\n",
            " $ dch_rec       : num  0.04193 -0.00625 0.00216 0.03558 -0.10215 ...\n",
            " $ dch_inv       : num  0.03303 -0.02668 0.00275 0.00833 -0.22202 ...\n",
            " $ soft_assets   : num  0.312 0.316 0.605 0.793 0.869 ...\n",
            " $ ch_cs         : num  0.09508 0.18883 0.09755 -0.00573 -0.23154 ...\n",
            " $ ch_cm         : num  0.0826 -0.2114 -0.1058 -0.2497 -1.6749 ...\n",
            " $ ch_roa        : num  -0.0198 -0.1178 0.0912 0.0175 -0.4667 ...\n",
            " $ issue         : int  1 1 1 1 0 1 1 1 1 1 ...\n",
            " $ bm            : num  0.413 0.158 2.231 1.044 -1.603 ...\n",
            " $ dpi           : num  0.874 0.745 1.015 1.026 0.598 ...\n",
            " $ reoa          : num  0.1676 -0.429 0.3948 0.0948 -0.9424 ...\n",
            " $ EBIT          : num  0.162 -0.1579 0.0637 0.0883 -0.7008 ...\n",
            " $ ch_fcf        : num  -0.0421 0.1002 0.0663 -0.0174 0.1303 ...\n",
            "'data.frame':\t395 obs. of  5 variables:\n",
            " $ New.CCM.Item.Name     : chr  \"CHE\" \"RECT\" \"INVT\" \"ACT\" ...\n",
            " $ Keyset                : int  1 1 1 1 1 1 1 1 1 1 ...\n",
            " $ Legacy.CST.Item.Number: int  1 2 3 4 5 6 7 8 9 10 ...\n",
            " $ Legacy.CST.Item.Name  : chr  \"iaitems\" \"iaitems\" \"iaitems\" \"iaitems\" ...\n",
            " $ Description           : chr  \"Cash and Short-Term Investments\" \"Receivables/Total\" \"Inventories - Total\" \"Current Assets - Total\" ...\n"
          ],
          "name": "stdout"
        },
        {
          "output_type": "display_data",
          "data": {
            "text/plain": [
              "  [1]  1  1  1  1  1  1  1  1  1  1  1  1  1  1  1  1  1  1  1  1  1 31 31 31  1\n",
              " [26] 32  1 31  1  1  1  1  1  1  1  1  1  1  1  1  1  1  1  1  1  1  1  1  1  1\n",
              " [51]  1  1  1  1  1  1  1  1 14  1  1  1  1  1  1  1  1  1  1  1  1  1  1  1  1\n",
              " [76]  1  1  1  1  1  1  1  1  1  1  1  1  1  1  1  1  1  1  1  1  1  1  1  1  1\n",
              "[101]  1  1  1  1  1  1  1  1  1  1  1  1  1  1  1  1  2  2  2  2  2  2  1  1  1\n",
              "[126]  1  1  1  1  1  2  2  2  2  2  2  2  2  2  2  2  2  2  2  2  2  1  1 14  1\n",
              "[151]  1  1  1  1  1  1  1  1  1  1  1  1  1  1  1  1  1  1  1  1  1  1  1  1  1\n",
              "[176]  2  1  1  1  1  1  1  1  1  1  1  1  1  1  1  1  1  1  1  1 32 32 32  1 32\n",
              "[201]  1  1  1  1  1  1  1  1  1  1  1  1  1  1  1  1  1  1  1  1  1  2  2  1  1\n",
              "[226]  1  1  1  1  1  1  1  1  1  1  1  1  1  1  1  1  1  1  1  1  1  1  1  1  1\n",
              "[251]  1  1  1  1  1  1  1  1  1  1  1  1  1  1  1  1  1  1  1  1 51 51 11 11  0\n",
              "[276]  0  0  1  1  1  1  1  1  1  1  1  1  1  1  1  1  1  1  1  1  1  1  1  1  1\n",
              "[301]  1  1  1  1  1  1  1  1  1  1  1  0  1  1  1 24  1  1  1  1  1  1  1  1  1\n",
              "[326]  1  1  1  1  1  1  1  1  1  1  1  1  1  1  1  1  1  1  1  1  1  1  1  1  1\n",
              "[351]  1  1  1  1  1  1  1  1  1  1  1  1  1  1  1  1  1  1  1  1  1  1  1  1  1\n",
              "[376]  1  1  1  1  1  1  1  1  1  1  1  1  1  1  1  1  1  1  1  1"
            ],
            "text/latex": "\\begin{enumerate*}\n\\item 1\n\\item 1\n\\item 1\n\\item 1\n\\item 1\n\\item 1\n\\item 1\n\\item 1\n\\item 1\n\\item 1\n\\item 1\n\\item 1\n\\item 1\n\\item 1\n\\item 1\n\\item 1\n\\item 1\n\\item 1\n\\item 1\n\\item 1\n\\item 1\n\\item 31\n\\item 31\n\\item 31\n\\item 1\n\\item 32\n\\item 1\n\\item 31\n\\item 1\n\\item 1\n\\item 1\n\\item 1\n\\item 1\n\\item 1\n\\item 1\n\\item 1\n\\item 1\n\\item 1\n\\item 1\n\\item 1\n\\item 1\n\\item 1\n\\item 1\n\\item 1\n\\item 1\n\\item 1\n\\item 1\n\\item 1\n\\item 1\n\\item 1\n\\item 1\n\\item 1\n\\item 1\n\\item 1\n\\item 1\n\\item 1\n\\item 1\n\\item 1\n\\item 14\n\\item 1\n\\item 1\n\\item 1\n\\item 1\n\\item 1\n\\item 1\n\\item 1\n\\item 1\n\\item 1\n\\item 1\n\\item 1\n\\item 1\n\\item 1\n\\item 1\n\\item 1\n\\item 1\n\\item 1\n\\item 1\n\\item 1\n\\item 1\n\\item 1\n\\item 1\n\\item 1\n\\item 1\n\\item 1\n\\item 1\n\\item 1\n\\item 1\n\\item 1\n\\item 1\n\\item 1\n\\item 1\n\\item 1\n\\item 1\n\\item 1\n\\item 1\n\\item 1\n\\item 1\n\\item 1\n\\item 1\n\\item 1\n\\item 1\n\\item 1\n\\item 1\n\\item 1\n\\item 1\n\\item 1\n\\item 1\n\\item 1\n\\item 1\n\\item 1\n\\item 1\n\\item 1\n\\item 1\n\\item 1\n\\item 1\n\\item 1\n\\item 2\n\\item 2\n\\item 2\n\\item 2\n\\item 2\n\\item 2\n\\item 1\n\\item 1\n\\item 1\n\\item 1\n\\item 1\n\\item 1\n\\item 1\n\\item 1\n\\item 2\n\\item 2\n\\item 2\n\\item 2\n\\item 2\n\\item 2\n\\item 2\n\\item 2\n\\item 2\n\\item 2\n\\item 2\n\\item 2\n\\item 2\n\\item 2\n\\item 2\n\\item 2\n\\item 1\n\\item 1\n\\item 14\n\\item 1\n\\item 1\n\\item 1\n\\item 1\n\\item 1\n\\item 1\n\\item 1\n\\item 1\n\\item 1\n\\item 1\n\\item 1\n\\item 1\n\\item 1\n\\item 1\n\\item 1\n\\item 1\n\\item 1\n\\item 1\n\\item 1\n\\item 1\n\\item 1\n\\item 1\n\\item 1\n\\item 1\n\\item 1\n\\item 1\n\\item 2\n\\item 1\n\\item 1\n\\item 1\n\\item 1\n\\item 1\n\\item 1\n\\item 1\n\\item 1\n\\item 1\n\\item 1\n\\item 1\n\\item 1\n\\item 1\n\\item 1\n\\item 1\n\\item 1\n\\item 1\n\\item 1\n\\item 1\n\\item 32\n\\item 32\n\\item 32\n\\item 1\n\\item 32\n\\item 1\n\\item 1\n\\item 1\n\\item 1\n\\item 1\n\\item 1\n\\item 1\n\\item 1\n\\item 1\n\\item 1\n\\item 1\n\\item 1\n\\item 1\n\\item 1\n\\item 1\n\\item 1\n\\item 1\n\\item 1\n\\item 1\n\\item 1\n\\item 1\n\\item 2\n\\item 2\n\\item 1\n\\item 1\n\\item 1\n\\item 1\n\\item 1\n\\item 1\n\\item 1\n\\item 1\n\\item 1\n\\item 1\n\\item 1\n\\item 1\n\\item 1\n\\item 1\n\\item 1\n\\item 1\n\\item 1\n\\item 1\n\\item 1\n\\item 1\n\\item 1\n\\item 1\n\\item 1\n\\item 1\n\\item 1\n\\item 1\n\\item 1\n\\item 1\n\\item 1\n\\item 1\n\\item 1\n\\item 1\n\\item 1\n\\item 1\n\\item 1\n\\item 1\n\\item 1\n\\item 1\n\\item 1\n\\item 1\n\\item 1\n\\item 1\n\\item 1\n\\item 1\n\\item 1\n\\item 1\n\\item 1\n\\item 51\n\\item 51\n\\item 11\n\\item 11\n\\item 0\n\\item 0\n\\item 0\n\\item 1\n\\item 1\n\\item 1\n\\item 1\n\\item 1\n\\item 1\n\\item 1\n\\item 1\n\\item 1\n\\item 1\n\\item 1\n\\item 1\n\\item 1\n\\item 1\n\\item 1\n\\item 1\n\\item 1\n\\item 1\n\\item 1\n\\item 1\n\\item 1\n\\item 1\n\\item 1\n\\item 1\n\\item 1\n\\item 1\n\\item 1\n\\item 1\n\\item 1\n\\item 1\n\\item 1\n\\item 1\n\\item 1\n\\item 1\n\\item 0\n\\item 1\n\\item 1\n\\item 1\n\\item 24\n\\item 1\n\\item 1\n\\item 1\n\\item 1\n\\item 1\n\\item 1\n\\item 1\n\\item 1\n\\item 1\n\\item 1\n\\item 1\n\\item 1\n\\item 1\n\\item 1\n\\item 1\n\\item 1\n\\item 1\n\\item 1\n\\item 1\n\\item 1\n\\item 1\n\\item 1\n\\item 1\n\\item 1\n\\item 1\n\\item 1\n\\item 1\n\\item 1\n\\item 1\n\\item 1\n\\item 1\n\\item 1\n\\item 1\n\\item 1\n\\item 1\n\\item 1\n\\item 1\n\\item 1\n\\item 1\n\\item 1\n\\item 1\n\\item 1\n\\item 1\n\\item 1\n\\item 1\n\\item 1\n\\item 1\n\\item 1\n\\item 1\n\\item 1\n\\item 1\n\\item 1\n\\item 1\n\\item 1\n\\item 1\n\\item 1\n\\item 1\n\\item 1\n\\item 1\n\\item 1\n\\item 1\n\\item 1\n\\item 1\n\\item 1\n\\item 1\n\\item 1\n\\item 1\n\\item 1\n\\item 1\n\\item 1\n\\item 1\n\\item 1\n\\item 1\n\\item 1\n\\item 1\n\\item 1\n\\item 1\n\\item 1\n\\item 1\n\\end{enumerate*}\n",
            "text/markdown": "1. 1\n2. 1\n3. 1\n4. 1\n5. 1\n6. 1\n7. 1\n8. 1\n9. 1\n10. 1\n11. 1\n12. 1\n13. 1\n14. 1\n15. 1\n16. 1\n17. 1\n18. 1\n19. 1\n20. 1\n21. 1\n22. 31\n23. 31\n24. 31\n25. 1\n26. 32\n27. 1\n28. 31\n29. 1\n30. 1\n31. 1\n32. 1\n33. 1\n34. 1\n35. 1\n36. 1\n37. 1\n38. 1\n39. 1\n40. 1\n41. 1\n42. 1\n43. 1\n44. 1\n45. 1\n46. 1\n47. 1\n48. 1\n49. 1\n50. 1\n51. 1\n52. 1\n53. 1\n54. 1\n55. 1\n56. 1\n57. 1\n58. 1\n59. 14\n60. 1\n61. 1\n62. 1\n63. 1\n64. 1\n65. 1\n66. 1\n67. 1\n68. 1\n69. 1\n70. 1\n71. 1\n72. 1\n73. 1\n74. 1\n75. 1\n76. 1\n77. 1\n78. 1\n79. 1\n80. 1\n81. 1\n82. 1\n83. 1\n84. 1\n85. 1\n86. 1\n87. 1\n88. 1\n89. 1\n90. 1\n91. 1\n92. 1\n93. 1\n94. 1\n95. 1\n96. 1\n97. 1\n98. 1\n99. 1\n100. 1\n101. 1\n102. 1\n103. 1\n104. 1\n105. 1\n106. 1\n107. 1\n108. 1\n109. 1\n110. 1\n111. 1\n112. 1\n113. 1\n114. 1\n115. 1\n116. 1\n117. 2\n118. 2\n119. 2\n120. 2\n121. 2\n122. 2\n123. 1\n124. 1\n125. 1\n126. 1\n127. 1\n128. 1\n129. 1\n130. 1\n131. 2\n132. 2\n133. 2\n134. 2\n135. 2\n136. 2\n137. 2\n138. 2\n139. 2\n140. 2\n141. 2\n142. 2\n143. 2\n144. 2\n145. 2\n146. 2\n147. 1\n148. 1\n149. 14\n150. 1\n151. 1\n152. 1\n153. 1\n154. 1\n155. 1\n156. 1\n157. 1\n158. 1\n159. 1\n160. 1\n161. 1\n162. 1\n163. 1\n164. 1\n165. 1\n166. 1\n167. 1\n168. 1\n169. 1\n170. 1\n171. 1\n172. 1\n173. 1\n174. 1\n175. 1\n176. 2\n177. 1\n178. 1\n179. 1\n180. 1\n181. 1\n182. 1\n183. 1\n184. 1\n185. 1\n186. 1\n187. 1\n188. 1\n189. 1\n190. 1\n191. 1\n192. 1\n193. 1\n194. 1\n195. 1\n196. 32\n197. 32\n198. 32\n199. 1\n200. 32\n201. 1\n202. 1\n203. 1\n204. 1\n205. 1\n206. 1\n207. 1\n208. 1\n209. 1\n210. 1\n211. 1\n212. 1\n213. 1\n214. 1\n215. 1\n216. 1\n217. 1\n218. 1\n219. 1\n220. 1\n221. 1\n222. 2\n223. 2\n224. 1\n225. 1\n226. 1\n227. 1\n228. 1\n229. 1\n230. 1\n231. 1\n232. 1\n233. 1\n234. 1\n235. 1\n236. 1\n237. 1\n238. 1\n239. 1\n240. 1\n241. 1\n242. 1\n243. 1\n244. 1\n245. 1\n246. 1\n247. 1\n248. 1\n249. 1\n250. 1\n251. 1\n252. 1\n253. 1\n254. 1\n255. 1\n256. 1\n257. 1\n258. 1\n259. 1\n260. 1\n261. 1\n262. 1\n263. 1\n264. 1\n265. 1\n266. 1\n267. 1\n268. 1\n269. 1\n270. 1\n271. 51\n272. 51\n273. 11\n274. 11\n275. 0\n276. 0\n277. 0\n278. 1\n279. 1\n280. 1\n281. 1\n282. 1\n283. 1\n284. 1\n285. 1\n286. 1\n287. 1\n288. 1\n289. 1\n290. 1\n291. 1\n292. 1\n293. 1\n294. 1\n295. 1\n296. 1\n297. 1\n298. 1\n299. 1\n300. 1\n301. 1\n302. 1\n303. 1\n304. 1\n305. 1\n306. 1\n307. 1\n308. 1\n309. 1\n310. 1\n311. 1\n312. 0\n313. 1\n314. 1\n315. 1\n316. 24\n317. 1\n318. 1\n319. 1\n320. 1\n321. 1\n322. 1\n323. 1\n324. 1\n325. 1\n326. 1\n327. 1\n328. 1\n329. 1\n330. 1\n331. 1\n332. 1\n333. 1\n334. 1\n335. 1\n336. 1\n337. 1\n338. 1\n339. 1\n340. 1\n341. 1\n342. 1\n343. 1\n344. 1\n345. 1\n346. 1\n347. 1\n348. 1\n349. 1\n350. 1\n351. 1\n352. 1\n353. 1\n354. 1\n355. 1\n356. 1\n357. 1\n358. 1\n359. 1\n360. 1\n361. 1\n362. 1\n363. 1\n364. 1\n365. 1\n366. 1\n367. 1\n368. 1\n369. 1\n370. 1\n371. 1\n372. 1\n373. 1\n374. 1\n375. 1\n376. 1\n377. 1\n378. 1\n379. 1\n380. 1\n381. 1\n382. 1\n383. 1\n384. 1\n385. 1\n386. 1\n387. 1\n388. 1\n389. 1\n390. 1\n391. 1\n392. 1\n393. 1\n394. 1\n395. 1\n\n\n",
            "text/html": [
              "<style>\n",
              ".list-inline {list-style: none; margin:0; padding: 0}\n",
              ".list-inline>li {display: inline-block}\n",
              ".list-inline>li:not(:last-child)::after {content: \"\\00b7\"; padding: 0 .5ex}\n",
              "</style>\n",
              "<ol class=list-inline><li>1</li><li>1</li><li>1</li><li>1</li><li>1</li><li>1</li><li>1</li><li>1</li><li>1</li><li>1</li><li>1</li><li>1</li><li>1</li><li>1</li><li>1</li><li>1</li><li>1</li><li>1</li><li>1</li><li>1</li><li>1</li><li>31</li><li>31</li><li>31</li><li>1</li><li>32</li><li>1</li><li>31</li><li>1</li><li>1</li><li>1</li><li>1</li><li>1</li><li>1</li><li>1</li><li>1</li><li>1</li><li>1</li><li>1</li><li>1</li><li>1</li><li>1</li><li>1</li><li>1</li><li>1</li><li>1</li><li>1</li><li>1</li><li>1</li><li>1</li><li>1</li><li>1</li><li>1</li><li>1</li><li>1</li><li>1</li><li>1</li><li>1</li><li>14</li><li>1</li><li>1</li><li>1</li><li>1</li><li>1</li><li>1</li><li>1</li><li>1</li><li>1</li><li>1</li><li>1</li><li>1</li><li>1</li><li>1</li><li>1</li><li>1</li><li>1</li><li>1</li><li>1</li><li>1</li><li>1</li><li>1</li><li>1</li><li>1</li><li>1</li><li>1</li><li>1</li><li>1</li><li>1</li><li>1</li><li>1</li><li>1</li><li>1</li><li>1</li><li>1</li><li>1</li><li>1</li><li>1</li><li>1</li><li>1</li><li>1</li><li>1</li><li>1</li><li>1</li><li>1</li><li>1</li><li>1</li><li>1</li><li>1</li><li>1</li><li>1</li><li>1</li><li>1</li><li>1</li><li>1</li><li>1</li><li>1</li><li>2</li><li>2</li><li>2</li><li>2</li><li>2</li><li>2</li><li>1</li><li>1</li><li>1</li><li>1</li><li>1</li><li>1</li><li>1</li><li>1</li><li>2</li><li>2</li><li>2</li><li>2</li><li>2</li><li>2</li><li>2</li><li>2</li><li>2</li><li>2</li><li>2</li><li>2</li><li>2</li><li>2</li><li>2</li><li>2</li><li>1</li><li>1</li><li>14</li><li>1</li><li>1</li><li>1</li><li>1</li><li>1</li><li>1</li><li>1</li><li>1</li><li>1</li><li>1</li><li>1</li><li>1</li><li>1</li><li>1</li><li>1</li><li>1</li><li>1</li><li>1</li><li>1</li><li>1</li><li>1</li><li>1</li><li>1</li><li>1</li><li>1</li><li>1</li><li>2</li><li>1</li><li>1</li><li>1</li><li>1</li><li>1</li><li>1</li><li>1</li><li>1</li><li>1</li><li>1</li><li>1</li><li>1</li><li>1</li><li>1</li><li>1</li><li>1</li><li>1</li><li>1</li><li>1</li><li>32</li><li>32</li><li>32</li><li>1</li><li>32</li><li>1</li><li>1</li><li>1</li><li>1</li><li>1</li><li>1</li><li>1</li><li>1</li><li>1</li><li>1</li><li>1</li><li>1</li><li>1</li><li>1</li><li>1</li><li>1</li><li>1</li><li>1</li><li>1</li><li>1</li><li>1</li><li>2</li><li>2</li><li>1</li><li>1</li><li>1</li><li>1</li><li>1</li><li>1</li><li>1</li><li>1</li><li>1</li><li>1</li><li>1</li><li>1</li><li>1</li><li>1</li><li>1</li><li>1</li><li>1</li><li>1</li><li>1</li><li>1</li><li>1</li><li>1</li><li>1</li><li>1</li><li>1</li><li>1</li><li>1</li><li>1</li><li>1</li><li>1</li><li>1</li><li>1</li><li>1</li><li>1</li><li>1</li><li>1</li><li>1</li><li>1</li><li>1</li><li>1</li><li>1</li><li>1</li><li>1</li><li>1</li><li>1</li><li>1</li><li>1</li><li>51</li><li>51</li><li>11</li><li>11</li><li>0</li><li>0</li><li>0</li><li>1</li><li>1</li><li>1</li><li>1</li><li>1</li><li>1</li><li>1</li><li>1</li><li>1</li><li>1</li><li>1</li><li>1</li><li>1</li><li>1</li><li>1</li><li>1</li><li>1</li><li>1</li><li>1</li><li>1</li><li>1</li><li>1</li><li>1</li><li>1</li><li>1</li><li>1</li><li>1</li><li>1</li><li>1</li><li>1</li><li>1</li><li>1</li><li>1</li><li>1</li><li>0</li><li>1</li><li>1</li><li>1</li><li>24</li><li>1</li><li>1</li><li>1</li><li>1</li><li>1</li><li>1</li><li>1</li><li>1</li><li>1</li><li>1</li><li>1</li><li>1</li><li>1</li><li>1</li><li>1</li><li>1</li><li>1</li><li>1</li><li>1</li><li>1</li><li>1</li><li>1</li><li>1</li><li>1</li><li>1</li><li>1</li><li>1</li><li>1</li><li>1</li><li>1</li><li>1</li><li>1</li><li>1</li><li>1</li><li>1</li><li>1</li><li>1</li><li>1</li><li>1</li><li>1</li><li>1</li><li>1</li><li>1</li><li>1</li><li>1</li><li>1</li><li>1</li><li>1</li><li>1</li><li>1</li><li>1</li><li>1</li><li>1</li><li>1</li><li>1</li><li>1</li><li>1</li><li>1</li><li>1</li><li>1</li><li>1</li><li>1</li><li>1</li><li>1</li><li>1</li><li>1</li><li>1</li><li>1</li><li>1</li><li>1</li><li>1</li><li>1</li><li>1</li><li>1</li><li>1</li><li>1</li><li>1</li><li>1</li><li>1</li></ol>\n"
            ]
          },
          "metadata": {
            "tags": []
          }
        }
      ]
    },
    {
      "cell_type": "code",
      "metadata": {
        "colab": {
          "base_uri": "https://localhost:8080/",
          "height": 85
        },
        "id": "dgDsbCO6G0AO",
        "outputId": "46352b87-366a-4f5a-ce34-9001fda109bc"
      },
      "source": [
        "#  change column names of \"dataset\", to reflect names of accounting variables\r\n",
        "        colNames_dataset <- toupper(names(dataset))\r\n",
        "        var_in_dict <-    data.frame(\"var\"=toupper(colNames_dataset)) %>% \r\n",
        "                          left_join(data_dictionary, by=c(\"var\"=\"New.CCM.Item.Name\")) %>% \r\n",
        "                          filter(!is.na(Description)) %>% \r\n",
        "                          select(var,Description)  \r\n",
        "        \r\n",
        "        var_position <- c()\r\n",
        "        for (i in var_in_dict$var){\r\n",
        "          var_position <- c(var_position,which(colNames_dataset==i))\r\n",
        "        }\r\n",
        "        var_in_dict$position <- var_position\r\n",
        "    \r\n",
        "        \r\n",
        "        for (i in 1:dim(var_in_dict)[1]){\r\n",
        "          names(dataset)[var_in_dict[i,3]] <- var_in_dict[i,2]\r\n",
        "        }\r\n",
        "        names(dataset) <- gsub(\"\\\\\\\\\",\"\",names(dataset))\r\n",
        "        colnames(dataset)\r\n",
        "                    "
      ],
      "execution_count": 4,
      "outputs": [
        {
          "output_type": "display_data",
          "data": {
            "text/plain": [
              " [1] \"fyear\"                                            \n",
              " [2] \"gvkey\"                                            \n",
              " [3] \"Standard Industrial Classification - Historical\"  \n",
              " [4] \"insbnk\"                                           \n",
              " [5] \"understatement\"                                   \n",
              " [6] \"option\"                                           \n",
              " [7] \"p_aaer\"                                           \n",
              " [8] \"new_p_aaer\"                                       \n",
              " [9] \"misstate\"                                         \n",
              "[10] \"Current Assets - Total\"                           \n",
              "[11] \"Accounts Payable - Trade\"                         \n",
              "[12] \"Assets - Total\"                                   \n",
              "[13] \"Common/Ordinary Equity - Total\"                   \n",
              "[14] \"Cash and Short-Term Investments\"                  \n",
              "[15] \"Cost of Goods Sold\"                               \n",
              "[16] \"Common Shares Outstanding\"                        \n",
              "[17] \"Debt in Current Liabilities - Total\"              \n",
              "[18] \"Long-Term Debt/Issuance\"                          \n",
              "[19] \"Long-Term Debt - Total\"                           \n",
              "[20] \"Depreciation and Amortization\"                    \n",
              "[21] \"Income Before Extraordinary Items\"                \n",
              "[22] \"Inventories - Total\"                              \n",
              "[23] \"Investment and Advances/Other\"                    \n",
              "[24] \"Short-Term Investments - Total\"                   \n",
              "[25] \"Current Liabilities - Total\"                      \n",
              "[26] \"Liabilities - Total\"                              \n",
              "[27] \"Net Income (Loss)\"                                \n",
              "[28] \"\\\"Property, Plant and Equipment - Total (Gross)\\\"\"\n",
              "[29] \"Preferred/Preference Stock (Capital) - Total\"     \n",
              "[30] \"Retained Earnings\"                                \n",
              "[31] \"Receivables/Total\"                                \n",
              "[32] \"Sales/Turnover (Net)\"                             \n",
              "[33] \"Sale of Common and Preferred Stock\"               \n",
              "[34] \"Income Taxes Payable\"                             \n",
              "[35] \"Income Taxes - Total\"                             \n",
              "[36] \"Interest and Related Expense - Total\"             \n",
              "[37] \"prcc_f\"                                           \n",
              "[38] \"dch_wc\"                                           \n",
              "[39] \"ch_rsst\"                                          \n",
              "[40] \"dch_rec\"                                          \n",
              "[41] \"dch_inv\"                                          \n",
              "[42] \"soft_assets\"                                      \n",
              "[43] \"ch_cs\"                                            \n",
              "[44] \"ch_cm\"                                            \n",
              "[45] \"ch_roa\"                                           \n",
              "[46] \"issue\"                                            \n",
              "[47] \"bm\"                                               \n",
              "[48] \"dpi\"                                              \n",
              "[49] \"reoa\"                                             \n",
              "[50] \"EBIT\"                                             \n",
              "[51] \"ch_fcf\"                                           "
            ],
            "text/latex": "\\begin{enumerate*}\n\\item 'fyear'\n\\item 'gvkey'\n\\item 'Standard Industrial Classification - Historical'\n\\item 'insbnk'\n\\item 'understatement'\n\\item 'option'\n\\item 'p\\_aaer'\n\\item 'new\\_p\\_aaer'\n\\item 'misstate'\n\\item 'Current Assets - Total'\n\\item 'Accounts Payable - Trade'\n\\item 'Assets - Total'\n\\item 'Common/Ordinary Equity - Total'\n\\item 'Cash and Short-Term Investments'\n\\item 'Cost of Goods Sold'\n\\item 'Common Shares Outstanding'\n\\item 'Debt in Current Liabilities - Total'\n\\item 'Long-Term Debt/Issuance'\n\\item 'Long-Term Debt - Total'\n\\item 'Depreciation and Amortization'\n\\item 'Income Before Extraordinary Items'\n\\item 'Inventories - Total'\n\\item 'Investment and Advances/Other'\n\\item 'Short-Term Investments - Total'\n\\item 'Current Liabilities - Total'\n\\item 'Liabilities - Total'\n\\item 'Net Income (Loss)'\n\\item '\"Property, Plant and Equipment - Total (Gross)\"'\n\\item 'Preferred/Preference Stock (Capital) - Total'\n\\item 'Retained Earnings'\n\\item 'Receivables/Total'\n\\item 'Sales/Turnover (Net)'\n\\item 'Sale of Common and Preferred Stock'\n\\item 'Income Taxes Payable'\n\\item 'Income Taxes - Total'\n\\item 'Interest and Related Expense - Total'\n\\item 'prcc\\_f'\n\\item 'dch\\_wc'\n\\item 'ch\\_rsst'\n\\item 'dch\\_rec'\n\\item 'dch\\_inv'\n\\item 'soft\\_assets'\n\\item 'ch\\_cs'\n\\item 'ch\\_cm'\n\\item 'ch\\_roa'\n\\item 'issue'\n\\item 'bm'\n\\item 'dpi'\n\\item 'reoa'\n\\item 'EBIT'\n\\item 'ch\\_fcf'\n\\end{enumerate*}\n",
            "text/markdown": "1. 'fyear'\n2. 'gvkey'\n3. 'Standard Industrial Classification - Historical'\n4. 'insbnk'\n5. 'understatement'\n6. 'option'\n7. 'p_aaer'\n8. 'new_p_aaer'\n9. 'misstate'\n10. 'Current Assets - Total'\n11. 'Accounts Payable - Trade'\n12. 'Assets - Total'\n13. 'Common/Ordinary Equity - Total'\n14. 'Cash and Short-Term Investments'\n15. 'Cost of Goods Sold'\n16. 'Common Shares Outstanding'\n17. 'Debt in Current Liabilities - Total'\n18. 'Long-Term Debt/Issuance'\n19. 'Long-Term Debt - Total'\n20. 'Depreciation and Amortization'\n21. 'Income Before Extraordinary Items'\n22. 'Inventories - Total'\n23. 'Investment and Advances/Other'\n24. 'Short-Term Investments - Total'\n25. 'Current Liabilities - Total'\n26. 'Liabilities - Total'\n27. 'Net Income (Loss)'\n28. '\"Property, Plant and Equipment - Total (Gross)\"'\n29. 'Preferred/Preference Stock (Capital) - Total'\n30. 'Retained Earnings'\n31. 'Receivables/Total'\n32. 'Sales/Turnover (Net)'\n33. 'Sale of Common and Preferred Stock'\n34. 'Income Taxes Payable'\n35. 'Income Taxes - Total'\n36. 'Interest and Related Expense - Total'\n37. 'prcc_f'\n38. 'dch_wc'\n39. 'ch_rsst'\n40. 'dch_rec'\n41. 'dch_inv'\n42. 'soft_assets'\n43. 'ch_cs'\n44. 'ch_cm'\n45. 'ch_roa'\n46. 'issue'\n47. 'bm'\n48. 'dpi'\n49. 'reoa'\n50. 'EBIT'\n51. 'ch_fcf'\n\n\n",
            "text/html": [
              "<style>\n",
              ".list-inline {list-style: none; margin:0; padding: 0}\n",
              ".list-inline>li {display: inline-block}\n",
              ".list-inline>li:not(:last-child)::after {content: \"\\00b7\"; padding: 0 .5ex}\n",
              "</style>\n",
              "<ol class=list-inline><li>'fyear'</li><li>'gvkey'</li><li>'Standard Industrial Classification - Historical'</li><li>'insbnk'</li><li>'understatement'</li><li>'option'</li><li>'p_aaer'</li><li>'new_p_aaer'</li><li>'misstate'</li><li>'Current Assets - Total'</li><li>'Accounts Payable - Trade'</li><li>'Assets - Total'</li><li>'Common/Ordinary Equity - Total'</li><li>'Cash and Short-Term Investments'</li><li>'Cost of Goods Sold'</li><li>'Common Shares Outstanding'</li><li>'Debt in Current Liabilities - Total'</li><li>'Long-Term Debt/Issuance'</li><li>'Long-Term Debt - Total'</li><li>'Depreciation and Amortization'</li><li>'Income Before Extraordinary Items'</li><li>'Inventories - Total'</li><li>'Investment and Advances/Other'</li><li>'Short-Term Investments - Total'</li><li>'Current Liabilities - Total'</li><li>'Liabilities - Total'</li><li>'Net Income (Loss)'</li><li>'\"Property, Plant and Equipment - Total (Gross)\"'</li><li>'Preferred/Preference Stock (Capital) - Total'</li><li>'Retained Earnings'</li><li>'Receivables/Total'</li><li>'Sales/Turnover (Net)'</li><li>'Sale of Common and Preferred Stock'</li><li>'Income Taxes Payable'</li><li>'Income Taxes - Total'</li><li>'Interest and Related Expense - Total'</li><li>'prcc_f'</li><li>'dch_wc'</li><li>'ch_rsst'</li><li>'dch_rec'</li><li>'dch_inv'</li><li>'soft_assets'</li><li>'ch_cs'</li><li>'ch_cm'</li><li>'ch_roa'</li><li>'issue'</li><li>'bm'</li><li>'dpi'</li><li>'reoa'</li><li>'EBIT'</li><li>'ch_fcf'</li></ol>\n"
            ]
          },
          "metadata": {
            "tags": []
          }
        }
      ]
    },
    {
      "cell_type": "code",
      "metadata": {
        "id": "X4VhYQEsI9Qp",
        "colab": {
          "base_uri": "https://localhost:8080/",
          "height": 1000
        },
        "outputId": "b466c27d-b5d5-49b6-9195-35e3376368fd"
      },
      "source": [
        " #number of companies, number of fraud companies\r\n",
        "        all_companies <- unique(dataset$gvkey) #unique companies \r\n",
        "        fraud_companies <- unique((dataset[dataset$understatement==1,]$gvkey)) #unique companies that were labelled fraud\r\n",
        "        cat(\"total number of companies: \", length(all_companies))\r\n",
        "        cat(\"\\nnumber of fraud companies: \", length(fraud_companies))\r\n",
        "        cat(\"\\nfraud companies: \", fraud_companies)\r\n",
        "        cat(\"\\n\\n\")\r\n",
        "        \r\n",
        "\r\n",
        " #table: financial records labelled as fraud vs. financial records labelled as non-fraud (are these annual filings?! SEC filings?!)       \r\n",
        "        cat(\"\\nProportion of non-fraud vs. fraud annual statements\")\r\n",
        "        prop.table(table(dataset$understatement)) #fraud reporting (understatement=1) /all reporting\r\n",
        "        cat(\"\\n\\n\")\r\n",
        "        \r\n",
        " #porportion of fraud companies, out of all companies      \r\n",
        "        fraud_perc <- length(fraud_companies)/length(unique(dataset$gvkey)) #num. fraud companies/ all companies\r\n",
        "        cat(\"Proportion of fraud companies: \", fraud_perc)\r\n",
        "        cat(\"\\n\\n\")\r\n",
        "        \r\n",
        "        cat(\"\\nTotal number of annual statements: \", comma(nrow(dataset)))\r\n",
        "        cat(\"\\nTotal number of fraud statements: \", nrow(dataset[dataset$understatement==1,]))\r\n",
        "        cat(\"\\n\")\r\n",
        " \r\n",
        " #table: proportion of financial records labelled as issues       \r\n",
        "        cat(\"\\n\\nContigency Table for statements labelled 'Issues'\")\r\n",
        "        round(prop.table(table(dataset$issue)),2) #what is this? what \"issue\" are we talking about?\r\n",
        "    \r\n",
        " #check variables with missing values\r\n",
        "        missing_value_count <- data.frame(missing_value_count= apply(dataset, 2, function(x){sum(is.na(x))})) %>% \r\n",
        "                                    filter(missing_value_count>=1)  \r\n",
        "          \r\n",
        "        missing_value_count$missing_var <- row.names(missing_value_count)\r\n",
        "        row.names(missing_value_count) <- NULL\r\n",
        "        missing_value_count <- missing_value_count[,c(2,1)]\r\n",
        "        missing_value_df <-   missing_value_count %>% \r\n",
        "                              arrange(missing_value_count) %>% #asc on number of missing values\r\n",
        "                              mutate(missing_value_perc= percent(missing_value_count/nrow(dataset)), #label percentage of missing values\r\n",
        "                                     missing_value_count =comma(missing_value_count)) #label number of missing values\r\n",
        "\r\n",
        "        missing_value_df.new <- missing_value_df %>% \r\n",
        "                                left_join(data_dictionary, by=c(\"missing_var\"= \"Description\")) %>% #add descriptions for missing values\r\n",
        "                                select(c(4,1,2,3)) %>%  \r\n",
        "                                mutate(New.CCM.Item.Name=tolower(New.CCM.Item.Name)) %>% \r\n",
        "                                rename(missing_var_orig_coding=New.CCM.Item.Name)\r\n",
        "        missing_value_df.new\r\n",
        "        cat(\"\\n\\n\")\r\n",
        "    \r\n",
        "    #check if we are missing different years' data\r\n",
        "        companies_with_missing_year <- dataset %>% \r\n",
        "                                       select(gvkey,fyear) %>% \r\n",
        "                                       group_by(gvkey) %>%\r\n",
        "                                       mutate(report_range = max(fyear)-min(fyear)+1, #range of filings (assuming filing obligation every year...?!)\r\n",
        "                                              count_reports= n(), #number of missed filings\r\n",
        "                                              num_missing_year =report_range - count_reports, # number of missed filings \r\n",
        "                                              proportion_reports_missing =num_missing_year/report_range) %>% #proportion of missed filings\r\n",
        "                                       distinct(gvkey,report_range,count_reports,num_missing_year,proportion_reports_missing) %>% \r\n",
        "                                       filter(num_missing_year>=1) %>% #get companies that have missed annual reports\r\n",
        "                                       distinct(gvkey)\r\n",
        "          \r\n",
        "        num_company_with_missing_reports <- length(companies_with_missing_year$gvkey)\r\n",
        "        cat(\"Number of companies with missing annual reports:\", \r\n",
        "        comma(num_company_with_missing_reports)) #I wonder on which exchange most of these companies are listed?! \r\n",
        "        cat(\"\\nTotal number of companies:\", comma(length(all_companies)))       \r\n",
        "        cat(\"\\nProportion of companies with missing annual reports:\", percent(num_company_with_missing_reports/length(all_companies)))  "
      ],
      "execution_count": 5,
      "outputs": [
        {
          "output_type": "stream",
          "text": [
            "total number of companies:  18444\n",
            "number of fraud companies:  16\n",
            "fraud companies:  5250 23288 8496 1278 13839 63859 3650 29001 30870 63951 10310 6497 141642 11982 62399 175982\n",
            "\n",
            "\n",
            "Proportion of non-fraud vs. fraud annual statements"
          ],
          "name": "stdout"
        },
        {
          "output_type": "display_data",
          "data": {
            "text/plain": [
              "\n",
              "           0            1 \n",
              "0.9998219727 0.0001780273 "
            ]
          },
          "metadata": {
            "tags": []
          }
        },
        {
          "output_type": "stream",
          "text": [
            "\n",
            "\n",
            "Proportion of fraud companies:  0.0008674908\n",
            "\n",
            "\n",
            "Total number of annual statements:  146,045\n",
            "Total number of fraud statements:  26\n",
            "\n",
            "\n",
            "Contigency Table for statements labelled 'Issues'"
          ],
          "name": "stdout"
        },
        {
          "output_type": "display_data",
          "data": {
            "text/plain": [
              "\n",
              "   0    1 \n",
              "0.14 0.86 "
            ]
          },
          "metadata": {
            "tags": []
          }
        },
        {
          "output_type": "display_data",
          "data": {
            "text/plain": [
              "   missing_var_orig_coding missing_var                                    \n",
              "1  NA                      bm                                             \n",
              "2  NA                      reoa                                           \n",
              "3  NA                      EBIT                                           \n",
              "4  NA                      soft_assets                                    \n",
              "5  NA                      dch_inv                                        \n",
              "6  NA                      dch_rec                                        \n",
              "7  NA                      dch_wc                                         \n",
              "8  NA                      ch_rsst                                        \n",
              "9  NA                      ch_fcf                                         \n",
              "10 NA                      dpi                                            \n",
              "11 NA                      ch_roa                                         \n",
              "12 sich                    Standard Industrial Classification - Historical\n",
              "13 NA                      ch_cs                                          \n",
              "14 NA                      ch_cm                                          \n",
              "15 NA                      p_aaer                                         \n",
              "16 NA                      new_p_aaer                                     \n",
              "   missing_value_count missing_value_perc\n",
              "1  18.0                0.01232%          \n",
              "2  591.0               0.40467%          \n",
              "3  591.0               0.40467%          \n",
              "4  592.0               0.40535%          \n",
              "5  4,615.0             3.15998%          \n",
              "6  4,743.0             3.24763%          \n",
              "7  4,759.0             3.25858%          \n",
              "8  4,851.0             3.32158%          \n",
              "9  5,407.0             3.70228%          \n",
              "10 9,228.0             6.31860%          \n",
              "11 12,678.0            8.68089%          \n",
              "12 13,529.0            9.26358%          \n",
              "13 15,918.0            10.89938%         \n",
              "14 17,107.0            11.71351%         \n",
              "15 145,081.0           99.33993%         \n",
              "16 145,081.0           99.33993%         "
            ],
            "text/latex": "A data.frame: 16 × 4\n\\begin{tabular}{llll}\n missing\\_var\\_orig\\_coding & missing\\_var & missing\\_value\\_count & missing\\_value\\_perc\\\\\n <chr> & <chr> & <chr> & <chr>\\\\\n\\hline\n\t NA   & bm                                              & 18.0      & 0.01232\\% \\\\\n\t NA   & reoa                                            & 591.0     & 0.40467\\% \\\\\n\t NA   & EBIT                                            & 591.0     & 0.40467\\% \\\\\n\t NA   & soft\\_assets                                     & 592.0     & 0.40535\\% \\\\\n\t NA   & dch\\_inv                                         & 4,615.0   & 3.15998\\% \\\\\n\t NA   & dch\\_rec                                         & 4,743.0   & 3.24763\\% \\\\\n\t NA   & dch\\_wc                                          & 4,759.0   & 3.25858\\% \\\\\n\t NA   & ch\\_rsst                                         & 4,851.0   & 3.32158\\% \\\\\n\t NA   & ch\\_fcf                                          & 5,407.0   & 3.70228\\% \\\\\n\t NA   & dpi                                             & 9,228.0   & 6.31860\\% \\\\\n\t NA   & ch\\_roa                                          & 12,678.0  & 8.68089\\% \\\\\n\t sich & Standard Industrial Classification - Historical & 13,529.0  & 9.26358\\% \\\\\n\t NA   & ch\\_cs                                           & 15,918.0  & 10.89938\\%\\\\\n\t NA   & ch\\_cm                                           & 17,107.0  & 11.71351\\%\\\\\n\t NA   & p\\_aaer                                          & 145,081.0 & 99.33993\\%\\\\\n\t NA   & new\\_p\\_aaer                                      & 145,081.0 & 99.33993\\%\\\\\n\\end{tabular}\n",
            "text/markdown": "\nA data.frame: 16 × 4\n\n| missing_var_orig_coding &lt;chr&gt; | missing_var &lt;chr&gt; | missing_value_count &lt;chr&gt; | missing_value_perc &lt;chr&gt; |\n|---|---|---|---|\n| NA   | bm                                              | 18.0      | 0.01232%  |\n| NA   | reoa                                            | 591.0     | 0.40467%  |\n| NA   | EBIT                                            | 591.0     | 0.40467%  |\n| NA   | soft_assets                                     | 592.0     | 0.40535%  |\n| NA   | dch_inv                                         | 4,615.0   | 3.15998%  |\n| NA   | dch_rec                                         | 4,743.0   | 3.24763%  |\n| NA   | dch_wc                                          | 4,759.0   | 3.25858%  |\n| NA   | ch_rsst                                         | 4,851.0   | 3.32158%  |\n| NA   | ch_fcf                                          | 5,407.0   | 3.70228%  |\n| NA   | dpi                                             | 9,228.0   | 6.31860%  |\n| NA   | ch_roa                                          | 12,678.0  | 8.68089%  |\n| sich | Standard Industrial Classification - Historical | 13,529.0  | 9.26358%  |\n| NA   | ch_cs                                           | 15,918.0  | 10.89938% |\n| NA   | ch_cm                                           | 17,107.0  | 11.71351% |\n| NA   | p_aaer                                          | 145,081.0 | 99.33993% |\n| NA   | new_p_aaer                                      | 145,081.0 | 99.33993% |\n\n",
            "text/html": [
              "<table class=\"dataframe\">\n",
              "<caption>A data.frame: 16 × 4</caption>\n",
              "<thead>\n",
              "\t<tr><th scope=col>missing_var_orig_coding</th><th scope=col>missing_var</th><th scope=col>missing_value_count</th><th scope=col>missing_value_perc</th></tr>\n",
              "\t<tr><th scope=col>&lt;chr&gt;</th><th scope=col>&lt;chr&gt;</th><th scope=col>&lt;chr&gt;</th><th scope=col>&lt;chr&gt;</th></tr>\n",
              "</thead>\n",
              "<tbody>\n",
              "\t<tr><td>NA  </td><td>bm                                             </td><td>18.0     </td><td>0.01232% </td></tr>\n",
              "\t<tr><td>NA  </td><td>reoa                                           </td><td>591.0    </td><td>0.40467% </td></tr>\n",
              "\t<tr><td>NA  </td><td>EBIT                                           </td><td>591.0    </td><td>0.40467% </td></tr>\n",
              "\t<tr><td>NA  </td><td>soft_assets                                    </td><td>592.0    </td><td>0.40535% </td></tr>\n",
              "\t<tr><td>NA  </td><td>dch_inv                                        </td><td>4,615.0  </td><td>3.15998% </td></tr>\n",
              "\t<tr><td>NA  </td><td>dch_rec                                        </td><td>4,743.0  </td><td>3.24763% </td></tr>\n",
              "\t<tr><td>NA  </td><td>dch_wc                                         </td><td>4,759.0  </td><td>3.25858% </td></tr>\n",
              "\t<tr><td>NA  </td><td>ch_rsst                                        </td><td>4,851.0  </td><td>3.32158% </td></tr>\n",
              "\t<tr><td>NA  </td><td>ch_fcf                                         </td><td>5,407.0  </td><td>3.70228% </td></tr>\n",
              "\t<tr><td>NA  </td><td>dpi                                            </td><td>9,228.0  </td><td>6.31860% </td></tr>\n",
              "\t<tr><td>NA  </td><td>ch_roa                                         </td><td>12,678.0 </td><td>8.68089% </td></tr>\n",
              "\t<tr><td>sich</td><td>Standard Industrial Classification - Historical</td><td>13,529.0 </td><td>9.26358% </td></tr>\n",
              "\t<tr><td>NA  </td><td>ch_cs                                          </td><td>15,918.0 </td><td>10.89938%</td></tr>\n",
              "\t<tr><td>NA  </td><td>ch_cm                                          </td><td>17,107.0 </td><td>11.71351%</td></tr>\n",
              "\t<tr><td>NA  </td><td>p_aaer                                         </td><td>145,081.0</td><td>99.33993%</td></tr>\n",
              "\t<tr><td>NA  </td><td>new_p_aaer                                     </td><td>145,081.0</td><td>99.33993%</td></tr>\n",
              "</tbody>\n",
              "</table>\n"
            ]
          },
          "metadata": {
            "tags": []
          }
        },
        {
          "output_type": "stream",
          "text": [
            "\n",
            "\n",
            "Number of companies with missing annual reports: 4,604\n",
            "Total number of companies: 18,444\n",
            "Proportion of companies with missing annual reports: 25%"
          ],
          "name": "stdout"
        }
      ]
    },
    {
      "cell_type": "code",
      "metadata": {
        "id": "GMo4UqUrotNa",
        "colab": {
          "base_uri": "https://localhost:8080/",
          "height": 933
        },
        "outputId": "81408b5b-bddf-48b4-f768-e0e9647879d4"
      },
      "source": [
        "# convert the columns to appropriate types \r\n",
        "        dataset.new <- dataset\r\n",
        "        dataset.new$p_aaer <- NULL  #\"Accounting and Auditing Enforcement Releases\" usually come after allegations\r\n",
        "        dataset.new$new_p_aaer <- NULL  #\"Accounting and Auditing Enforcement Releases\" usually come after allegations\r\n",
        "        c(num.of.rows, num.of.cols) %<-% dim(dataset.new) #get dimensions of the data frame\r\n",
        "    \r\n",
        "        \r\n",
        "# for each company, get the earliest and latest year for which a record was available. \r\n",
        "        min_year <- min(dataset.new$fyear)\r\n",
        "        max_year <- max(dataset.new$fyear)\r\n",
        "        num_years <- max_year-min_year +1\r\n",
        "        ref_years_df <- data.frame(gvkey= rep(unique(dataset.new$gvkey),each=num_years),\r\n",
        "                                   fyear = rep(min_year:max_year, times=length(unique(dataset.new$gvkey))))\r\n",
        "        \r\n",
        "        dataset.new.mod <-ref_years_df %>% \r\n",
        "                              left_join(dataset.new,by=c(\"gvkey\"=\"gvkey\",\"fyear\"= \"fyear\")) %>% \r\n",
        "                              group_by(gvkey) %>% \r\n",
        "                              arrange(gvkey,fyear)\r\n",
        "        \r\n",
        "        min_max_lookup <- dataset.new.mod %>% \r\n",
        "                              filter(!is.na(understatement)) %>% \r\n",
        "                              group_by(gvkey) %>% \r\n",
        "                              mutate(max_year=max(fyear),\r\n",
        "                                     min_year=min(fyear)) %>% \r\n",
        "                              select(gvkey,max_year,min_year) %>% \r\n",
        "                              distinct(gvkey,max_year,min_year)\r\n",
        "        \r\n",
        "       dataset.new.mod<-  dataset.new.mod %>% \r\n",
        "                              left_join(min_max_lookup,by=c(\"gvkey\"=\"gvkey\")) %>% \r\n",
        "                              mutate(ind_missing = case_when(fyear <min_year~\"pre\", \r\n",
        "                                                             fyear >max_year~ \"post\",\r\n",
        "                                                             fyear>min_year&fyear<max_year~\"during\",\r\n",
        "                                                             TRUE~\"N/A\"))\r\n",
        "       dataset.new.mod <- as.data.frame(dataset.new.mod)\r\n",
        "       #dataset.new.mod[,3] <- data.frame() #replace industry codes with text NA\r\n",
        "              \r\n",
        "\r\n",
        "#define \"pre\", \"post\" and \"during\" NA's (for numerical values)\r\n",
        "       dataset.new.mod[dataset.new.mod$ind_missing==\"pre\",4:49] <- -100000000000 #before first file\r\n",
        "       dataset.new.mod[dataset.new.mod$ind_missing==\"post\",4:49] <- 100000000000 #between first file and last file \r\n",
        "       dataset.new.mod[dataset.new.mod$ind_missing==\"during\",4:49] <- 100000000000 #after last file \r\n",
        "       \r\n",
        "       cleaned_data <- as.data.frame(dataset.new.mod)\r\n",
        "       cleaned_data$max_year <- NULL      \r\n",
        "       cleaned_data$min_year <- NULL \r\n",
        "\r\n",
        "       \r\n",
        "       #str(dataset.new.mod)\r\n",
        "       #summary(dataset.new.mod)\r\n",
        "       \r\n",
        "       #replace numeric values with \r\n",
        "        nums <- unlist(lapply(cleaned_data, is.numeric))  \r\n",
        "        cleaned_data[ , nums][is.na(cleaned_data[ , nums])] <- 100000000000 #replace NA's of numeric columns\r\n",
        "          \r\n",
        "        # View(cleaned_data)\r\n",
        "        #str(cleaned_data)\r\n",
        "                 \r\n",
        "#fraud data (how are splits represented)                    \r\n",
        "        fraud.df <- dataset.new.mod %>% filter(gvkey %in% fraud_companies)\r\n",
        "        fraud.industry <- fraud.df %>% \r\n",
        "                            group_by(gvkey) %>% \r\n",
        "                            summarise(num_industries = n_distinct(sich),\r\n",
        "                                      filing_perc=sum(abs(understatement)<=1)/(max(max_year)-min(min_year)+1)) %>% \r\n",
        "                            mutate(filing_perc=percent(filing_perc))\r\n",
        "        fraud.industry\r\n",
        "        print(paste(\"unique fraud companies\",unique(fraud.df$gvkey))) #unique companies \r\n",
        "        print(paste(\"unique fraud sectors\", unique(fraud.df$sich))) #unique fraud sectors (check SIC code here: https://www.insurancexdate.com/sic.php)\r\n",
        "        "
      ],
      "execution_count": 23,
      "outputs": [
        {
          "output_type": "display_data",
          "data": {
            "text/plain": [
              "   gvkey  num_industries filing_perc\n",
              "1    1278 3              25.00%     \n",
              "2    3650 1              8.00%      \n",
              "3    5250 5              8.00%      \n",
              "4    6497 2              8.00%      \n",
              "5    8496 2              40.00%     \n",
              "6   10310 3              22.22%     \n",
              "7   11982 2              12.50%     \n",
              "8   13839 3              8.00%      \n",
              "9   23288 4              8.70%      \n",
              "10  29001 4              9.09%      \n",
              "11  30870 2              10.00%     \n",
              "12  62399 2              20.00%     \n",
              "13  63859 2              100.00%    \n",
              "14  63951 2              20.00%     \n",
              "15 141642 3              28.57%     \n",
              "16 175982 2              22.22%     "
            ],
            "text/latex": "A tibble: 16 × 3\n\\begin{tabular}{r|lll}\n  & gvkey & num\\_industries & filing\\_perc\\\\\n  & <int> & <int> & <chr>\\\\\n\\hline\n\t1 &   1278 & 3 & 25.00\\% \\\\\n\t2 &   3650 & 1 & 8.00\\%  \\\\\n\t3 &   5250 & 5 & 8.00\\%  \\\\\n\t4 &   6497 & 2 & 8.00\\%  \\\\\n\t5 &   8496 & 2 & 40.00\\% \\\\\n\t6 &  10310 & 3 & 22.22\\% \\\\\n\t7 &  11982 & 2 & 12.50\\% \\\\\n\t8 &  13839 & 3 & 8.00\\%  \\\\\n\t9 &  23288 & 4 & 8.70\\%  \\\\\n\t10 &  29001 & 4 & 9.09\\%  \\\\\n\t11 &  30870 & 2 & 10.00\\% \\\\\n\t12 &  62399 & 2 & 20.00\\% \\\\\n\t13 &  63859 & 2 & 100.00\\%\\\\\n\t14 &  63951 & 2 & 20.00\\% \\\\\n\t15 & 141642 & 3 & 28.57\\% \\\\\n\t16 & 175982 & 2 & 22.22\\% \\\\\n\\end{tabular}\n",
            "text/markdown": "\nA tibble: 16 × 3\n\n| <!--/--> | gvkey &lt;int&gt; | num_industries &lt;int&gt; | filing_perc &lt;chr&gt; |\n|---|---|---|---|\n| 1 |   1278 | 3 | 25.00%  |\n| 2 |   3650 | 1 | 8.00%   |\n| 3 |   5250 | 5 | 8.00%   |\n| 4 |   6497 | 2 | 8.00%   |\n| 5 |   8496 | 2 | 40.00%  |\n| 6 |  10310 | 3 | 22.22%  |\n| 7 |  11982 | 2 | 12.50%  |\n| 8 |  13839 | 3 | 8.00%   |\n| 9 |  23288 | 4 | 8.70%   |\n| 10 |  29001 | 4 | 9.09%   |\n| 11 |  30870 | 2 | 10.00%  |\n| 12 |  62399 | 2 | 20.00%  |\n| 13 |  63859 | 2 | 100.00% |\n| 14 |  63951 | 2 | 20.00%  |\n| 15 | 141642 | 3 | 28.57%  |\n| 16 | 175982 | 2 | 22.22%  |\n\n",
            "text/html": [
              "<table class=\"dataframe\">\n",
              "<caption>A tibble: 16 × 3</caption>\n",
              "<thead>\n",
              "\t<tr><th></th><th scope=col>gvkey</th><th scope=col>num_industries</th><th scope=col>filing_perc</th></tr>\n",
              "\t<tr><th></th><th scope=col>&lt;int&gt;</th><th scope=col>&lt;int&gt;</th><th scope=col>&lt;chr&gt;</th></tr>\n",
              "</thead>\n",
              "<tbody>\n",
              "\t<tr><th scope=row>1</th><td>  1278</td><td>3</td><td>25.00% </td></tr>\n",
              "\t<tr><th scope=row>2</th><td>  3650</td><td>1</td><td>8.00%  </td></tr>\n",
              "\t<tr><th scope=row>3</th><td>  5250</td><td>5</td><td>8.00%  </td></tr>\n",
              "\t<tr><th scope=row>4</th><td>  6497</td><td>2</td><td>8.00%  </td></tr>\n",
              "\t<tr><th scope=row>5</th><td>  8496</td><td>2</td><td>40.00% </td></tr>\n",
              "\t<tr><th scope=row>6</th><td> 10310</td><td>3</td><td>22.22% </td></tr>\n",
              "\t<tr><th scope=row>7</th><td> 11982</td><td>2</td><td>12.50% </td></tr>\n",
              "\t<tr><th scope=row>8</th><td> 13839</td><td>3</td><td>8.00%  </td></tr>\n",
              "\t<tr><th scope=row>9</th><td> 23288</td><td>4</td><td>8.70%  </td></tr>\n",
              "\t<tr><th scope=row>10</th><td> 29001</td><td>4</td><td>9.09%  </td></tr>\n",
              "\t<tr><th scope=row>11</th><td> 30870</td><td>2</td><td>10.00% </td></tr>\n",
              "\t<tr><th scope=row>12</th><td> 62399</td><td>2</td><td>20.00% </td></tr>\n",
              "\t<tr><th scope=row>13</th><td> 63859</td><td>2</td><td>100.00%</td></tr>\n",
              "\t<tr><th scope=row>14</th><td> 63951</td><td>2</td><td>20.00% </td></tr>\n",
              "\t<tr><th scope=row>15</th><td>141642</td><td>3</td><td>28.57% </td></tr>\n",
              "\t<tr><th scope=row>16</th><td>175982</td><td>2</td><td>22.22% </td></tr>\n",
              "</tbody>\n",
              "</table>\n"
            ]
          },
          "metadata": {
            "tags": []
          }
        },
        {
          "output_type": "stream",
          "text": [
            " [1] \"unique fraud companies 1278\"   \"unique fraud companies 3650\"  \n",
            " [3] \"unique fraud companies 5250\"   \"unique fraud companies 6497\"  \n",
            " [5] \"unique fraud companies 8496\"   \"unique fraud companies 10310\" \n",
            " [7] \"unique fraud companies 11982\"  \"unique fraud companies 13839\" \n",
            " [9] \"unique fraud companies 23288\"  \"unique fraud companies 29001\" \n",
            "[11] \"unique fraud companies 30870\"  \"unique fraud companies 62399\" \n",
            "[13] \"unique fraud companies 63859\"  \"unique fraud companies 63951\" \n",
            "[15] \"unique fraud companies 141642\" \"unique fraud companies 175982\"\n",
            " [1] \"unique fraud sectors NA\"   \"unique fraud sectors 3634\"\n",
            " [3] \"unique fraud sectors 2390\" \"unique fraud sectors 3510\"\n",
            " [5] \"unique fraud sectors 2800\" \"unique fraud sectors 2890\"\n",
            " [7] \"unique fraud sectors 3081\" \"unique fraud sectors 2810\"\n",
            " [9] \"unique fraud sectors 3651\" \"unique fraud sectors 5912\"\n",
            "[11] \"unique fraud sectors 3812\" \"unique fraud sectors 8093\"\n",
            "[13] \"unique fraud sectors 2860\" \"unique fraud sectors 2836\"\n",
            "[15] \"unique fraud sectors 2833\" \"unique fraud sectors 3690\"\n",
            "[17] \"unique fraud sectors 9995\" \"unique fraud sectors 7372\"\n",
            "[19] \"unique fraud sectors 3341\" \"unique fraud sectors 5051\"\n",
            "[21] \"unique fraud sectors 4899\" \"unique fraud sectors 7320\"\n",
            "[23] \"unique fraud sectors 3674\"\n"
          ],
          "name": "stdout"
        }
      ]
    },
    {
      "cell_type": "code",
      "metadata": {
        "colab": {
          "base_uri": "https://localhost:8080/",
          "height": 437
        },
        "id": "smWHieTo3cke",
        "outputId": "9fa3da7d-b95f-4e3b-e78a-2c08011a46ee"
      },
      "source": [
        "#plot filing rate of fraud company vs. non-fraud companies\r\n",
        "filing_compliance <- dataset.new.mod %>% \r\n",
        "                            mutate(duration=max_year-min_year+1,\r\n",
        "                                   has.filed= case_when(abs(understatement)<=1~1,\r\n",
        "                                                        TRUE~0)) %>% \r\n",
        "                            select(gvkey,has.filed,duration) %>% \r\n",
        "                            group_by(gvkey) %>%\r\n",
        "                            mutate(filing_count=sum(has.filed),\r\n",
        "                                   duration=max(duration)) %>% \r\n",
        "                            select(-has.filed)\r\n",
        "\r\n",
        "filing_compliance <- filing_compliance %>% \r\n",
        "                          mutate(filing_rate =filing_count/duration ) %>% \r\n",
        "                          arrange(filing_rate) %>% \r\n",
        "                          distinct_all()\r\n",
        "\r\n",
        "par(mfrow=c(2,1))\r\n",
        "hist(filing_compliance[filing_compliance$gvkey %in% fraud_companies,]$filing_rate,\r\n",
        "     main=\"filing rate distribution: fraud companies\",xlab =\"filing rate\")\r\n",
        "hist(filing_compliance[!filing_compliance$gvkey %in% fraud_companies,]$filing_rate,\r\n",
        "     main=\"filing rate distribution: non-fraud companies\",xlab =\"filing rate\")"
      ],
      "execution_count": 22,
      "outputs": [
        {
          "output_type": "display_data",
          "data": {
            "image/png": "[encoded data removed]",
            "text/plain": [
              "Plot with title “filing rate distribution: non-fraud companies”"
            ]
          },
          "metadata": {
            "tags": [],
            "image/png": {
              "width": 420,
              "height": 420
            }
          }
        }
      ]
    },
    {
      "cell_type": "code",
      "metadata": {
        "id": "quk6QVL69Q1u"
      },
      "source": [
        "# RNN "
      ],
      "execution_count": null,
      "outputs": []
    }
  ]
}